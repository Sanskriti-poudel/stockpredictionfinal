{
 "cells": [
  {
   "cell_type": "code",
   "execution_count": 1,
   "id": "b515d2d2-3a20-4ef4-80da-c09285b641fb",
   "metadata": {},
   "outputs": [],
   "source": [
    "#import libraries\n",
    "import pandas as pd\n",
    "import numpy as np\n",
    "import pandas_ta as ta\n",
    "import os\n",
    "from sklearn.preprocessing import MinMaxScaler, LabelEncoder\n",
    "from sklearn.model_selection import train_test_split\n",
    "from sklearn.metrics import mean_squared_error, mean_absolute_error\n",
    "import tensorflow as tf\n",
    "from tensorflow.keras.models import Sequential\n",
    "from tensorflow.keras.layers import Dense, LSTM, GRU, Dropout,Input\n",
    "from keras.callbacks import EarlyStopping\n",
    "import matplotlib.pyplot as plt"
   ]
  },
  {
   "cell_type": "code",
   "execution_count": 2,
   "id": "48ace68f-7346-42b5-b2c3-3482b24e687a",
   "metadata": {},
   "outputs": [],
   "source": [
    "fundamental_folder = \"data//fundamental\"\n",
    "fund_files = [file for file in os.listdir(fundamental_folder) if file.endswith(\"xlsx\")]\n",
    "fund_path = os.path.join(fundamental_folder, fund_files[0])\n",
    "df1 = pd.read_excel(fund_path, index_col=\"Symbol\")\n",
    "# print(df1.head())"
   ]
  },
  {
   "cell_type": "code",
   "execution_count": 3,
   "id": "deea99bb-ff03-4c37-adf0-f044ada14bbf",
   "metadata": {},
   "outputs": [],
   "source": [
    "import os\n",
    "import pandas_ta as ta\n",
    "\n",
    "data_folder = \"data/historical\"  # Cleaned path\n",
    "\n",
    "all_stocks = {}\n",
    "\n",
    "# Load each stock's data\n",
    "for file in os.listdir(data_folder):\n",
    "    if file.endswith(\".xlsx\") and not file.startswith(\"~$\"):\n",
    "        symbol = os.path.splitext(file)[0]\n",
    "        df = pd.read_excel(os.path.join(data_folder, file))\n",
    "        all_stocks[symbol] = df\n",
    "\n",
    "for symbol, df in all_stocks.items():\n",
    "    df.columns = df.columns.str.strip()  # Clean column names\n",
    "    df['RSI'] = ta.rsi(df['LTP'], length=14)\n",
    "    macd = ta.macd(df['LTP'])\n",
    "    df['MACD'] = macd['MACD_12_26_9']\n",
    "    df['MACD_signal'] = macd['MACDs_12_26_9']\n",
    "    all_stocks[symbol] = df  # Save back\n",
    "\n",
    "\n",
    "\n"
   ]
  },
  {
   "cell_type": "code",
   "execution_count": 4,
   "id": "41f2d526-0903-45be-a077-af8917fff70e",
   "metadata": {},
   "outputs": [
    {
     "name": "stdout",
     "output_type": "stream",
     "text": [
      "['Proposed Dividend', 'Merchant Bankers', 'Commercial Banks', 'Dividend Calculator', '8% Bonus Shares of Prabhu Mahalaxmi Life Insurance Listed in NEPSE', 'NIC ASIA Bank Empowers Global Tourists with NepalPay QR via Alipay+ Integration', 'Nepal SBI Bank To Issue Rs. 3 Arba Worth \"7% Nepal SBI Bank Debenture 2090\" from Ashadh 30', 'Bungal Hydro Limited Issuing IPO Shares to Locals of Bajhang District And Nepalese Employed Abroad From Ashadh 29', \"Right Alert! Issue of 1:0.50 Right Shares of People's Power Opening from Today\", 'Mabilung Energy Opening IPO Shares to Locals of Sankhuwasabha District and Nepalese Employed Abroad From Today']\n"
     ]
    }
   ],
   "source": [
    "import requests\n",
    "from bs4 import BeautifulSoup\n",
    "\n",
    "def fetch_nepse_headlines(url):\n",
    "    response = requests.get(url)\n",
    "    soup = BeautifulSoup(response.text, 'html.parser')\n",
    "    \n",
    "    headlines = []\n",
    "    for a in soup.find_all('a'):\n",
    "        text = a.get_text(strip=True)\n",
    "        if text and ('shares' in text.lower() or 'dividend' in text.lower() or 'bank' in text.lower()):\n",
    "            headlines.append(text)\n",
    "    \n",
    "    return headlines[:10]  # limit to 10 for example\n",
    "\n",
    "# Example: replace with a real NEPSE company news URL\n",
    "url = 'https://www.sharesansar.com'\n",
    "headlines = fetch_nepse_headlines(url)\n",
    "print(headlines)\n"
   ]
  },
  {
   "cell_type": "code",
   "execution_count": 5,
   "id": "279efc21-646c-4759-a17a-72c10b491854",
   "metadata": {},
   "outputs": [
    {
     "name": "stderr",
     "output_type": "stream",
     "text": [
      "Asking to truncate to max_length but no maximum length is provided and the model has no predefined maximum length. Default to no truncation.\n"
     ]
    },
    {
     "name": "stdout",
     "output_type": "stream",
     "text": [
      "                                            headline sentiment\n",
      "0                                Capital Expenditure  negative\n",
      "1                                  Proposed Dividend  negative\n",
      "2                                            IPO/FPO  negative\n",
      "3                               Check IPO/FPO Result  negative\n",
      "4                                       IPO/FPO News  negative\n",
      "5                             IPO/FPO Allotment News  negative\n",
      "6                                   Merchant Bankers  negative\n",
      "7                                   Commercial Banks  negative\n",
      "8                                Dividend Calculator  negative\n",
      "9  8% Bonus Shares of Prabhu Mahalaxmi Life Insur...  negative\n",
      "🧠 Sentiment score for NEPSE news: -10\n"
     ]
    }
   ],
   "source": [
    "import requests\n",
    "from bs4 import BeautifulSoup\n",
    "import pandas as pd\n",
    "import torch\n",
    "from transformers import AutoTokenizer, AutoModelForSequenceClassification\n",
    "\n",
    "# -------------------------------\n",
    "# Load FinBERT Model\n",
    "# -------------------------------\n",
    "tokenizer = AutoTokenizer.from_pretrained(\"yiyanghkust/finbert-tone\")\n",
    "model = AutoModelForSequenceClassification.from_pretrained(\"yiyanghkust/finbert-tone\")\n",
    "\n",
    "# -------------------------------\n",
    "# Define sentiment function\n",
    "# -------------------------------\n",
    "def get_sentiment(text):\n",
    "    inputs = tokenizer(text, return_tensors=\"pt\", truncation=True)\n",
    "    outputs = model(**inputs)\n",
    "    probs = torch.nn.functional.softmax(outputs.logits, dim=-1)\n",
    "    sentiment = torch.argmax(probs).item()\n",
    "    label_map = {0: \"negative\", 1: \"neutral\", 2: \"positive\"}\n",
    "    return label_map[sentiment]\n",
    "\n",
    "# -------------------------------\n",
    "# Web scraping function\n",
    "# -------------------------------\n",
    "def fetch_nepse_headlines(url):\n",
    "    headers = {'User-Agent': 'Mozilla/5.0'}  # prevent blocking\n",
    "    response = requests.get(url, headers=headers)\n",
    "    soup = BeautifulSoup(response.text, 'html.parser')\n",
    "    \n",
    "    headlines = []\n",
    "    for a in soup.find_all('a'):\n",
    "        text = a.get_text(strip=True)\n",
    "        if text and any(keyword in text.lower() for keyword in ['shares', 'dividend', 'bank', 'ipo', 'capital', 'right issue']):\n",
    "            headlines.append(text)\n",
    "    \n",
    "    return headlines[:10]  # Limit to 10 for performance\n",
    "\n",
    "# -------------------------------\n",
    "# Fetch and analyze headlines\n",
    "# -------------------------------\n",
    "url = 'https://www.sharesansar.com'\n",
    "headlines = fetch_nepse_headlines(url)\n",
    "\n",
    "if not headlines:\n",
    "    print(\"⚠️ No relevant headlines found.\")\n",
    "    sentiment_score = 0\n",
    "else:\n",
    "    news_df = pd.DataFrame({\"headline\": headlines})\n",
    "    news_df[\"sentiment\"] = news_df[\"headline\"].map(get_sentiment)\n",
    "\n",
    "    sentiment_score = (news_df[\"sentiment\"] == \"positive\").sum() - (news_df[\"sentiment\"] == \"negative\").sum()\n",
    "\n",
    "    print(news_df)\n",
    "    print(\"🧠 Sentiment score for NEPSE news:\", sentiment_score)\n",
    "\n",
    "\n",
    "\n"
   ]
  },
  {
   "cell_type": "code",
   "execution_count": 5,
   "id": "5b7707ea-aa78-466d-874c-25eadc1feea4",
   "metadata": {
    "scrolled": true
   },
   "outputs": [
    {
     "name": "stdout",
     "output_type": "stream",
     "text": [
      "⏩ ACLBSL: Model and test data saved\n",
      "⏩ ADBL: Model and test data saved\n",
      "⏩ AHL: Model and test data saved\n",
      "⏩ AHPC: Model and test data saved\n",
      "⏩ AKJCL: Model and test data saved\n",
      "⏩ AKPL: Model and test data saved\n",
      "⏩ ALBSL: Model and test data saved\n",
      "⏩ ALICL: Model and test data saved\n",
      "⏩ ANLB: Model and test data saved\n",
      "⏩ API: Model and test data saved\n",
      "⏩ AVYAN: Model and test data saved\n",
      "⏩ BARUN: Model and test data saved\n",
      "⏩ BBC: Model and test data saved\n",
      "⏩ BEDC: Model and test data saved\n",
      "⏩ BFC: Model and test data saved\n",
      "⏩ BGWT: Model and test data saved\n",
      "⏩ BHDC: Model and test data saved\n",
      "⏩ BHL: Model and test data saved\n",
      "⏩ BHPL: Model and test data saved\n",
      "⏩ BNHC: Model and test data saved\n",
      "⏩ BNL: Model and test data saved\n",
      "⏩ BPCL: Model and test data saved\n",
      "⏩ CBBL: Model and test data saved\n",
      "⏩ CFCL: Model and test data saved\n",
      "⏩ CGH: Model and test data saved\n",
      "⏩ CHCL: Model and test data saved\n",
      "⏩ CHDC: Model and test data saved\n",
      "⏩ CHL: Model and test data saved\n",
      "⏩ CIT: Model and test data saved\n",
      "⏩ CITY: Model and test data saved\n",
      "⏩ CLI: Model and test data saved\n",
      "⏩ CORBL: Model and test data saved\n",
      "⏩ CYCL: Model and test data saved\n",
      "⏩ CZBIL: Model and test data saved\n",
      "⏩ DDBL: Model and test data saved\n",
      "⏩ DHPL: Model and test data saved\n",
      "⏩ DLBS: Model and test data saved\n",
      "⏩ DOLTI: Model and test data saved\n",
      "⏩ DORDI: Model and test data saved\n",
      "⏩ EBL: Model and test data saved\n",
      "⏩ EDBL: Model and test data saved\n",
      "⏩ EHPL: Model and test data saved\n",
      "⏩ ENL: Model and test data saved\n",
      "⏩ FMDBL: Model and test data saved\n",
      "⏩ FOWAD: Model and test data saved\n",
      "⏩ GBBL: Model and test data saved\n",
      "⏩ GBIME: Model and test data saved\n",
      "⏩ GBLBS: Model and test data saved\n",
      "⏩ GCIL: Model and test data saved\n",
      "⏩ GFCL: Model and test data saved\n",
      "⏩ GHL: Model and test data saved\n",
      "⏩ GILB: Model and test data saved\n",
      "⏩ GLBSL: Model and test data saved\n",
      "⏩ GLH: Model and test data saved\n",
      "⏩ GMFBS: Model and test data saved\n",
      "⏩ GMFIL: Model and test data saved\n",
      "⏩ GMLI: Model and test data saved\n",
      "⏩ GRDBL: Model and test data saved\n",
      "⏩ GUFL: Model and test data saved\n",
      "⏩ GVL: Model and test data saved\n",
      "⏩ HATHY: Model and test data saved\n",
      "⏩ HBL: Model and test data saved\n",
      "⏩ HDHPC: Model and test data saved\n",
      "⏩ HEI: Model and test data saved\n",
      "⏩ HHL: Model and test data saved\n",
      "⏩ HIDCL: Model and test data saved\n",
      "⏩ HLBSL: Model and test data saved\n",
      "⏩ HLI: Model and test data saved\n",
      "⏩ HPPL: Model and test data saved\n",
      "⏩ HRL: Model and test data saved\n",
      "⏩ HURJA: Model and test data saved\n",
      "⏩ ICFC: Model and test data saved\n",
      "⏩ IGI: Model and test data saved\n",
      "⏩ IHL: Model and test data saved\n",
      "⏩ ILBS: Model and test data saved\n",
      "⏩ ILI: Model and test data saved\n",
      "⏩ JBBL: Model and test data saved\n",
      "⏩ JBLB: Model and test data saved\n",
      "⏩ JFL: Model and test data saved\n",
      "⏩ JOSHI: Model and test data saved\n",
      "⏩ JSLBB: Model and test data saved\n",
      "⏩ KBL: Model and test data saved\n",
      "⏩ KBSH: Model and test data saved\n",
      "⏩ KDL: Model and test data saved\n",
      "⏩ KKHC: Model and test data saved\n",
      "⏩ KMCDB: Model and test data saved\n",
      "⏩ KPCL: Model and test data saved\n",
      "⏩ KSBBL: Model and test data saved\n",
      "⏩ LBBL: Model and test data saved\n",
      "⏩ LICN: Model and test data saved\n",
      "⏩ LLBS: Model and test data saved\n",
      "⏩ LSL: Model and test data saved\n",
      "⏩ MAKAR: Model and test data saved\n",
      "⏩ MATRI: Model and test data saved\n",
      "⏩ MBJC: Model and test data saved\n",
      "⏩ MBL: Model and test data saved\n",
      "⏩ MCHL: Model and test data saved\n",
      "⏩ MDB: Model and test data saved\n",
      "⏩ MEHL: Model and test data saved\n",
      "⏩ MEL: Model and test data saved\n",
      "⏩ MEN: Model and test data saved\n",
      "⏩ MERO: Model and test data saved\n",
      "⏩ MFIL: Model and test data saved\n",
      "⏩ MHL: Model and test data saved\n",
      "⏩ MHNL: Model and test data saved\n",
      "⏩ MKCL: Model and test data saved\n",
      "⏩ MKHC: Model and test data saved\n",
      "⏩ MKHL: Model and test data saved\n",
      "⏩ MKJC: Model and test data saved\n",
      "⏩ MLBBL: Model and test data saved\n",
      "⏩ MLBL: Model and test data saved\n",
      "⏩ MLBS: Model and test data saved\n",
      "⏩ MLBSL: Model and test data saved\n",
      "⏩ MMKJL: Model and test data saved\n",
      "⏩ MNBBL: Model and test data saved\n",
      "⏩ MPFL: Model and test data saved\n",
      "⏩ MSHL: Model and test data saved\n",
      "⏩ MSLB: Model and test data saved\n",
      "⏩ NABBC: Model and test data saved\n",
      "⏩ NABIL: Model and test data saved\n",
      "⏩ NADEP: Model and test data saved\n",
      "⏩ NBL: Model and test data saved\n",
      "⏩ NESDO: Model and test data saved\n",
      "⏩ NFS: Model and test data saved\n",
      "⏩ NGPL: Model and test data saved\n",
      "⏩ NHDL: Model and test data saved\n",
      "⏩ NHPC: Model and test data saved\n",
      "⏩ NICA: Model and test data saved\n",
      "⏩ NICL: Model and test data saved\n",
      "⏩ NICLBSL: Model and test data saved\n",
      "⏩ NIFRA: Model and test data saved\n",
      "⏩ NIL: Model and test data saved\n",
      "⏩ NIMB: Model and test data saved\n",
      "⏩ NLG: Model and test data saved\n",
      "⏩ NLICL: Model and test data saved\n",
      "⏩ NLO: Model and test data saved\n",
      "⏩ NMB: Model and test data saved\n",
      "⏩ NMBMF: Model and test data saved\n",
      "⏩ NMFBS: Model and test data saved\n",
      "⏩ NMIC: Model and test data saved\n",
      "⏩ NMLBBL: Model and test data saved\n",
      "⏩ NRIC: Model and test data saved\n",
      "⏩ NRM: Model and test data saved\n",
      "⏩ RADHI: Model and test data saved\n"
     ]
    }
   ],
   "source": [
    "#train GRU model\n",
    "sentiment_score = -10\n",
    "\n",
    "# Create model output directories\n",
    "model_dir = \"allsavedmodels/gru_fundamental\"\n",
    "test_data_dir = \"test_data\"\n",
    "os.makedirs(model_dir, exist_ok=True)\n",
    "os.makedirs(test_data_dir, exist_ok=True)\n",
    "\n",
    "# Label encode Sector\n",
    "sector_encoder = LabelEncoder()\n",
    "if isinstance(df1, pd.DataFrame) and 'Sector' in df1.columns:\n",
    "    sector_encoder.fit(df1['Sector'].dropna().astype(str))\n",
    "else:\n",
    "    raise ValueError(\"df1 must be a DataFrame with a 'Sector' column.\")\n",
    "\n",
    "for symbol, data in all_stocks.items():\n",
    "    if symbol not in df1.index:\n",
    "        print(f\"⚠️ Skipping {symbol.upper()}: No fundamental data.\")\n",
    "        continue\n",
    "\n",
    "    model_path = os.path.join(model_dir, f\"{symbol.upper()}_GRU.keras\")\n",
    "    scaler_path = os.path.join(model_dir, f\"{symbol.upper()}_scaler.save\")\n",
    "    y_scaler_path = os.path.join(model_dir, f\"{symbol.upper()}_y_scaler.save\")\n",
    "    x_test_path = os.path.join(test_data_dir, f\"{symbol}_X_test.npy\")\n",
    "    y_test_path = os.path.join(test_data_dir, f\"{symbol}_y_test.npy\")\n",
    "\n",
    "    # Skip if already trained\n",
    "    if all(os.path.exists(p) for p in [model_path, scaler_path, y_scaler_path, x_test_path, y_test_path]):\n",
    "        print(f\"⏩ {symbol.upper()}: Model and test data saved\")\n",
    "        continue\n",
    "\n",
    "    df = data.copy()\n",
    "    df.columns = df.columns.str.strip()\n",
    "\n",
    "    # ✅ Add technical indicators\n",
    "    df['RSI'] = ta.rsi(df['LTP'], length=14)\n",
    "    macd = ta.macd(df['LTP'])\n",
    "    df['MACD'] = macd['MACD_12_26_9']\n",
    "    df['MACD_signal'] = macd['MACDs_12_26_9']\n",
    "\n",
    "    # ✅ Add fundamental data\n",
    "    fundamentals = df1.loc[symbol]\n",
    "    for col in ['Sector', 'Sharesoutstanding', 'EPS', 'P/E_ratio', 'bookvalue', 'PBV']:\n",
    "        df[col.upper()] = fundamentals[col]\n",
    "    df['SECTOR'] = sector_encoder.transform([fundamentals['Sector']])[0]\n",
    "    df['SENTIMENT_SCORE'] = sentiment_score\n",
    "\n",
    "    # Drop rows with NaNs in required columns\n",
    "    required_cols = [\n",
    "        'LTP', '% Change', 'High', 'Low', 'Open', 'Qty.', 'Turnover',\n",
    "        'SECTOR', 'EPS', 'P/E_RATIO', 'BOOKVALUE', 'PBV', 'SHARESOUTSTANDING',\n",
    "        'RSI', 'MACD', 'MACD_signal'\n",
    "    ]\n",
    "    df.dropna(subset=required_cols, inplace=True)\n",
    "\n",
    "    # Add target variable\n",
    "    df['Target_LTP'] = df['LTP'].shift(-1)\n",
    "    df.dropna(subset=['Target_LTP'], inplace=True)\n",
    "\n",
    "    features = [\n",
    "        '% Change', 'High', 'Low', 'Open', 'Qty.', 'Turnover',\n",
    "        'SECTOR', 'EPS', 'P/E_RATIO', 'BOOKVALUE', 'PBV',\n",
    "        'SHARESOUTSTANDING', 'SENTIMENT_SCORE', 'RSI', 'MACD', 'MACD_signal'\n",
    "    ]\n",
    "\n",
    "    X = df[features].astype(float).values\n",
    "    y = df['Target_LTP'].astype(float).values\n",
    "\n",
    "    X_train, X_test, y_train, y_test = train_test_split(X, y, test_size=0.2, shuffle=False)\n",
    "\n",
    "    # ✅ Scale input features\n",
    "    scaler = MinMaxScaler()\n",
    "    X_train_scaled = scaler.fit_transform(X_train)\n",
    "    X_test_scaled = scaler.transform(X_test)\n",
    "\n",
    "    # ✅ Scale output y values\n",
    "    y_scaler = MinMaxScaler()\n",
    "    y_train_scaled = y_scaler.fit_transform(y_train.reshape(-1, 1))\n",
    "    y_test_scaled = y_scaler.transform(y_test.reshape(-1, 1))\n",
    "\n",
    "    # Reshape for GRU\n",
    "    X_train_scaled = np.expand_dims(X_train_scaled, axis=1)\n",
    "    X_test_scaled = np.expand_dims(X_test_scaled, axis=1)\n",
    "\n",
    "    # ✅ Define deeper GRU model\n",
    "    model = Sequential([\n",
    "        Input(shape=(1, X_train_scaled.shape[2])),\n",
    "        GRU(64, return_sequences=True),\n",
    "        Dropout(0.2),\n",
    "        GRU(32),\n",
    "        Dense(16, activation='relu'),\n",
    "        Dense(1)\n",
    "    ])\n",
    "\n",
    "    model.compile(optimizer='adam', loss='mse')\n",
    "    early_stop = EarlyStopping(monitor='val_loss', patience=10, restore_best_weights=True)\n",
    "\n",
    "    # Train model\n",
    "    history = model.fit(\n",
    "        X_train_scaled, y_train_scaled,\n",
    "        validation_split=0.2,\n",
    "        epochs=110,\n",
    "        batch_size=32,\n",
    "        verbose=0,\n",
    "        callbacks=[early_stop]\n",
    "    )\n",
    "\n",
    "    # Evaluate\n",
    "    test_loss = model.evaluate(X_test_scaled, y_test_scaled, verbose=0)\n",
    "    print(f\"📊 {symbol.upper()} Test MSE: {test_loss:.6f}\")\n",
    "\n",
    "    # ✅ Save model + scalers\n",
    "    model.save(model_path)\n",
    "    joblib.dump(scaler, scaler_path)\n",
    "    joblib.dump(y_scaler, y_scaler_path)\n",
    "    print(f\"✅ {symbol.upper()} GRU model & scalers saved.\")\n",
    "\n",
    "    np.save(x_test_path, X_test)\n",
    "    np.save(y_test_path, y_test)\n",
    "    print(f\"✅ {symbol.upper()} Test data saved.\")\n"
   ]
  },
  {
   "cell_type": "code",
   "execution_count": 14,
   "id": "f69ec301-209a-4bb5-90bc-c7fed0dc5f5d",
   "metadata": {},
   "outputs": [
    {
     "name": "stdout",
     "output_type": "stream",
     "text": [
      "✅ ACLBSL → Predicted LTP: 643.84\n"
     ]
    },
    {
     "name": "stderr",
     "output_type": "stream",
     "text": [
      "C:\\Users\\Sanskriti Poudel\\New folder\\Lib\\site-packages\\sklearn\\base.py:486: UserWarning: X has feature names, but MinMaxScaler was fitted without feature names\n",
      "  warnings.warn(\n"
     ]
    },
    {
     "name": "stdout",
     "output_type": "stream",
     "text": [
      "📊 Validation metrics for aclbsl:\n",
      "  MAE: 47.61\n",
      "  RMSE: 51.89\n",
      "  R2: -0.792\n",
      "  MAPE: 8.18%\n",
      "✅ Saved plot for aclbsl to plots/aclbsl.png\n",
      "✅ ADBL → Predicted LTP: 245.70\n"
     ]
    },
    {
     "name": "stderr",
     "output_type": "stream",
     "text": [
      "C:\\Users\\Sanskriti Poudel\\New folder\\Lib\\site-packages\\sklearn\\base.py:486: UserWarning: X has feature names, but MinMaxScaler was fitted without feature names\n",
      "  warnings.warn(\n"
     ]
    },
    {
     "name": "stdout",
     "output_type": "stream",
     "text": [
      "📊 Validation metrics for adbl:\n",
      "  MAE: 3.56\n",
      "  RMSE: 5.04\n",
      "  R2: 0.824\n",
      "  MAPE: 1.47%\n",
      "✅ Saved plot for adbl to plots/adbl.png\n",
      "✅ AHL → Predicted LTP: 431.41\n"
     ]
    },
    {
     "name": "stderr",
     "output_type": "stream",
     "text": [
      "C:\\Users\\Sanskriti Poudel\\New folder\\Lib\\site-packages\\sklearn\\base.py:486: UserWarning: X has feature names, but MinMaxScaler was fitted without feature names\n",
      "  warnings.warn(\n"
     ]
    },
    {
     "name": "stdout",
     "output_type": "stream",
     "text": [
      "📊 Validation metrics for ahl:\n",
      "  MAE: 12.60\n",
      "  RMSE: 15.75\n",
      "  R2: 0.678\n",
      "  MAPE: 3.52%\n",
      "✅ Saved plot for ahl to plots/ahl.png\n",
      "✅ AHPC → Predicted LTP: 292.73\n"
     ]
    },
    {
     "name": "stderr",
     "output_type": "stream",
     "text": [
      "C:\\Users\\Sanskriti Poudel\\New folder\\Lib\\site-packages\\sklearn\\base.py:486: UserWarning: X has feature names, but MinMaxScaler was fitted without feature names\n",
      "  warnings.warn(\n"
     ]
    },
    {
     "name": "stdout",
     "output_type": "stream",
     "text": [
      "📊 Validation metrics for ahpc:\n",
      "  MAE: 5.11\n",
      "  RMSE: 6.85\n",
      "  R2: 0.938\n",
      "  MAPE: 1.88%\n",
      "✅ Saved plot for ahpc to plots/ahpc.png\n",
      "✅ AKJCL → Predicted LTP: 168.75\n"
     ]
    },
    {
     "name": "stderr",
     "output_type": "stream",
     "text": [
      "C:\\Users\\Sanskriti Poudel\\New folder\\Lib\\site-packages\\sklearn\\base.py:486: UserWarning: X has feature names, but MinMaxScaler was fitted without feature names\n",
      "  warnings.warn(\n"
     ]
    },
    {
     "name": "stdout",
     "output_type": "stream",
     "text": [
      "📊 Validation metrics for akjcl:\n",
      "  MAE: 35.05\n",
      "  RMSE: 38.59\n",
      "  R2: -3.142\n",
      "  MAPE: 16.70%\n",
      "✅ Saved plot for akjcl to plots/akjcl.png\n",
      "✅ AKPL → Predicted LTP: 383.84\n"
     ]
    },
    {
     "name": "stderr",
     "output_type": "stream",
     "text": [
      "C:\\Users\\Sanskriti Poudel\\New folder\\Lib\\site-packages\\sklearn\\base.py:486: UserWarning: X has feature names, but MinMaxScaler was fitted without feature names\n",
      "  warnings.warn(\n"
     ]
    },
    {
     "name": "stdout",
     "output_type": "stream",
     "text": [
      "📊 Validation metrics for akpl:\n",
      "  MAE: 7.13\n",
      "  RMSE: 9.19\n",
      "  R2: 0.985\n",
      "  MAPE: 2.16%\n",
      "✅ Saved plot for akpl to plots/akpl.png\n",
      "✅ ALBSL → Predicted LTP: 665.89\n"
     ]
    },
    {
     "name": "stderr",
     "output_type": "stream",
     "text": [
      "C:\\Users\\Sanskriti Poudel\\New folder\\Lib\\site-packages\\sklearn\\base.py:486: UserWarning: X has feature names, but MinMaxScaler was fitted without feature names\n",
      "  warnings.warn(\n"
     ]
    },
    {
     "name": "stdout",
     "output_type": "stream",
     "text": [
      "📊 Validation metrics for albsl:\n",
      "  MAE: 48.64\n",
      "  RMSE: 57.78\n",
      "  R2: -0.449\n",
      "  MAPE: 6.44%\n",
      "✅ Saved plot for albsl to plots/albsl.png\n",
      "✅ ALICL → Predicted LTP: 606.43\n"
     ]
    },
    {
     "name": "stderr",
     "output_type": "stream",
     "text": [
      "C:\\Users\\Sanskriti Poudel\\New folder\\Lib\\site-packages\\sklearn\\base.py:486: UserWarning: X has feature names, but MinMaxScaler was fitted without feature names\n",
      "  warnings.warn(\n"
     ]
    },
    {
     "name": "stdout",
     "output_type": "stream",
     "text": [
      "📊 Validation metrics for alicl:\n",
      "  MAE: 10.91\n",
      "  RMSE: 14.50\n",
      "  R2: 0.964\n",
      "  MAPE: 1.69%\n",
      "✅ Saved plot for alicl to plots/alicl.png\n",
      "✅ ANLB → Predicted LTP: 1597.49\n"
     ]
    },
    {
     "name": "stderr",
     "output_type": "stream",
     "text": [
      "C:\\Users\\Sanskriti Poudel\\New folder\\Lib\\site-packages\\sklearn\\base.py:486: UserWarning: X has feature names, but MinMaxScaler was fitted without feature names\n",
      "  warnings.warn(\n"
     ]
    },
    {
     "name": "stdout",
     "output_type": "stream",
     "text": [
      "📊 Validation metrics for anlb:\n",
      "  MAE: 209.22\n",
      "  RMSE: 364.31\n",
      "  R2: 0.556\n",
      "  MAPE: 24.66%\n",
      "✅ Saved plot for anlb to plots/anlb.png\n",
      "✅ API → Predicted LTP: 259.93\n"
     ]
    },
    {
     "name": "stderr",
     "output_type": "stream",
     "text": [
      "C:\\Users\\Sanskriti Poudel\\New folder\\Lib\\site-packages\\sklearn\\base.py:486: UserWarning: X has feature names, but MinMaxScaler was fitted without feature names\n",
      "  warnings.warn(\n"
     ]
    },
    {
     "name": "stdout",
     "output_type": "stream",
     "text": [
      "📊 Validation metrics for api:\n",
      "  MAE: 4.41\n",
      "  RMSE: 5.61\n",
      "  R2: 0.953\n",
      "  MAPE: 1.95%\n",
      "✅ Saved plot for api to plots/api.png\n",
      "✅ AVYAN → Predicted LTP: 616.25\n"
     ]
    },
    {
     "name": "stderr",
     "output_type": "stream",
     "text": [
      "C:\\Users\\Sanskriti Poudel\\New folder\\Lib\\site-packages\\sklearn\\base.py:486: UserWarning: X has feature names, but MinMaxScaler was fitted without feature names\n",
      "  warnings.warn(\n"
     ]
    },
    {
     "name": "stdout",
     "output_type": "stream",
     "text": [
      "📊 Validation metrics for avyan:\n",
      "  MAE: 19.43\n",
      "  RMSE: 28.21\n",
      "  R2: 0.809\n",
      "  MAPE: 2.85%\n",
      "✅ Saved plot for avyan to plots/avyan.png\n",
      "✅ BARUN → Predicted LTP: 258.28\n"
     ]
    },
    {
     "name": "stderr",
     "output_type": "stream",
     "text": [
      "C:\\Users\\Sanskriti Poudel\\New folder\\Lib\\site-packages\\sklearn\\base.py:486: UserWarning: X has feature names, but MinMaxScaler was fitted without feature names\n",
      "  warnings.warn(\n"
     ]
    },
    {
     "name": "stdout",
     "output_type": "stream",
     "text": [
      "📊 Validation metrics for barun:\n",
      "  MAE: 5.92\n",
      "  RMSE: 7.68\n",
      "  R2: 0.716\n",
      "  MAPE: 2.38%\n",
      "✅ Saved plot for barun to plots/barun.png\n",
      "✅ BBC → Predicted LTP: 3430.92\n"
     ]
    },
    {
     "name": "stderr",
     "output_type": "stream",
     "text": [
      "C:\\Users\\Sanskriti Poudel\\New folder\\Lib\\site-packages\\sklearn\\base.py:486: UserWarning: X has feature names, but MinMaxScaler was fitted without feature names\n",
      "  warnings.warn(\n"
     ]
    },
    {
     "name": "stdout",
     "output_type": "stream",
     "text": [
      "📊 Validation metrics for bbc:\n",
      "  MAE: 163.57\n",
      "  RMSE: 193.07\n",
      "  R2: 0.689\n",
      "  MAPE: 4.92%\n",
      "✅ Saved plot for bbc to plots/bbc.png\n",
      "✅ BEDC → Predicted LTP: 241.02\n"
     ]
    },
    {
     "name": "stderr",
     "output_type": "stream",
     "text": [
      "C:\\Users\\Sanskriti Poudel\\New folder\\Lib\\site-packages\\sklearn\\base.py:486: UserWarning: X has feature names, but MinMaxScaler was fitted without feature names\n",
      "  warnings.warn(\n"
     ]
    },
    {
     "name": "stdout",
     "output_type": "stream",
     "text": [
      "📊 Validation metrics for bedc:\n",
      "  MAE: 23.15\n",
      "  RMSE: 26.42\n",
      "  R2: 0.227\n",
      "  MAPE: 11.27%\n",
      "✅ Saved plot for bedc to plots/bedc.png\n",
      "✅ BFC → Predicted LTP: 327.66\n"
     ]
    },
    {
     "name": "stderr",
     "output_type": "stream",
     "text": [
      "C:\\Users\\Sanskriti Poudel\\New folder\\Lib\\site-packages\\sklearn\\base.py:486: UserWarning: X has feature names, but MinMaxScaler was fitted without feature names\n",
      "  warnings.warn(\n"
     ]
    },
    {
     "name": "stdout",
     "output_type": "stream",
     "text": [
      "📊 Validation metrics for bfc:\n",
      "  MAE: 14.27\n",
      "  RMSE: 16.13\n",
      "  R2: 0.291\n",
      "  MAPE: 4.47%\n",
      "✅ Saved plot for bfc to plots/bfc.png\n",
      "✅ BGWT → Predicted LTP: 615.90\n"
     ]
    },
    {
     "name": "stderr",
     "output_type": "stream",
     "text": [
      "C:\\Users\\Sanskriti Poudel\\New folder\\Lib\\site-packages\\sklearn\\base.py:486: UserWarning: X has feature names, but MinMaxScaler was fitted without feature names\n",
      "  warnings.warn(\n"
     ]
    },
    {
     "name": "stdout",
     "output_type": "stream",
     "text": [
      "📊 Validation metrics for bgwt:\n",
      "  MAE: 103.50\n",
      "  RMSE: 129.96\n",
      "  R2: -0.931\n",
      "  MAPE: 23.61%\n",
      "✅ Saved plot for bgwt to plots/bgwt.png\n",
      "✅ BHDC → Predicted LTP: 358.84\n"
     ]
    },
    {
     "name": "stderr",
     "output_type": "stream",
     "text": [
      "C:\\Users\\Sanskriti Poudel\\New folder\\Lib\\site-packages\\sklearn\\base.py:486: UserWarning: X has feature names, but MinMaxScaler was fitted without feature names\n",
      "  warnings.warn(\n"
     ]
    },
    {
     "name": "stdout",
     "output_type": "stream",
     "text": [
      "📊 Validation metrics for bhdc:\n",
      "  MAE: 39.68\n",
      "  RMSE: 44.87\n",
      "  R2: -0.982\n",
      "  MAPE: 9.88%\n",
      "✅ Saved plot for bhdc to plots/bhdc.png\n",
      "✅ BHL → Predicted LTP: 260.43\n"
     ]
    },
    {
     "name": "stderr",
     "output_type": "stream",
     "text": [
      "C:\\Users\\Sanskriti Poudel\\New folder\\Lib\\site-packages\\sklearn\\base.py:486: UserWarning: X has feature names, but MinMaxScaler was fitted without feature names\n",
      "  warnings.warn(\n"
     ]
    },
    {
     "name": "stdout",
     "output_type": "stream",
     "text": [
      "📊 Validation metrics for bhl:\n",
      "  MAE: 31.86\n",
      "  RMSE: 36.46\n",
      "  R2: -0.533\n",
      "  MAPE: 10.91%\n",
      "✅ Saved plot for bhl to plots/bhl.png\n",
      "✅ BHPL → Predicted LTP: 495.59\n"
     ]
    },
    {
     "name": "stderr",
     "output_type": "stream",
     "text": [
      "C:\\Users\\Sanskriti Poudel\\New folder\\Lib\\site-packages\\sklearn\\base.py:486: UserWarning: X has feature names, but MinMaxScaler was fitted without feature names\n",
      "  warnings.warn(\n"
     ]
    },
    {
     "name": "stdout",
     "output_type": "stream",
     "text": [
      "📊 Validation metrics for bhpl:\n",
      "  MAE: 14.20\n",
      "  RMSE: 18.39\n",
      "  R2: 0.451\n",
      "  MAPE: 2.98%\n",
      "✅ Saved plot for bhpl to plots/bhpl.png\n",
      "✅ BNHC → Predicted LTP: 365.80\n"
     ]
    },
    {
     "name": "stderr",
     "output_type": "stream",
     "text": [
      "C:\\Users\\Sanskriti Poudel\\New folder\\Lib\\site-packages\\sklearn\\base.py:486: UserWarning: X has feature names, but MinMaxScaler was fitted without feature names\n",
      "  warnings.warn(\n"
     ]
    },
    {
     "name": "stdout",
     "output_type": "stream",
     "text": [
      "📊 Validation metrics for bnhc:\n",
      "  MAE: 23.23\n",
      "  RMSE: 26.29\n",
      "  R2: 0.403\n",
      "  MAPE: 6.44%\n",
      "✅ Saved plot for bnhc to plots/bnhc.png\n",
      "✅ BNL → Predicted LTP: 12288.93\n"
     ]
    },
    {
     "name": "stderr",
     "output_type": "stream",
     "text": [
      "C:\\Users\\Sanskriti Poudel\\New folder\\Lib\\site-packages\\sklearn\\base.py:486: UserWarning: X has feature names, but MinMaxScaler was fitted without feature names\n",
      "  warnings.warn(\n"
     ]
    },
    {
     "name": "stdout",
     "output_type": "stream",
     "text": [
      "📊 Validation metrics for bnl:\n",
      "  MAE: 3088.11\n",
      "  RMSE: 5017.61\n",
      "  R2: 0.373\n",
      "  MAPE: 104.78%\n",
      "✅ Saved plot for bnl to plots/bnl.png\n",
      "✅ BPCL → Predicted LTP: 317.54\n"
     ]
    },
    {
     "name": "stderr",
     "output_type": "stream",
     "text": [
      "C:\\Users\\Sanskriti Poudel\\New folder\\Lib\\site-packages\\sklearn\\base.py:486: UserWarning: X has feature names, but MinMaxScaler was fitted without feature names\n",
      "  warnings.warn(\n"
     ]
    },
    {
     "name": "stdout",
     "output_type": "stream",
     "text": [
      "📊 Validation metrics for bpcl:\n",
      "  MAE: 4.19\n",
      "  RMSE: 5.58\n",
      "  R2: 0.759\n",
      "  MAPE: 1.29%\n",
      "✅ Saved plot for bpcl to plots/bpcl.png\n",
      "✅ CBBL → Predicted LTP: 806.93\n"
     ]
    },
    {
     "name": "stderr",
     "output_type": "stream",
     "text": [
      "C:\\Users\\Sanskriti Poudel\\New folder\\Lib\\site-packages\\sklearn\\base.py:486: UserWarning: X has feature names, but MinMaxScaler was fitted without feature names\n",
      "  warnings.warn(\n"
     ]
    },
    {
     "name": "stdout",
     "output_type": "stream",
     "text": [
      "📊 Validation metrics for cbbl:\n",
      "  MAE: 14.83\n",
      "  RMSE: 19.53\n",
      "  R2: 0.939\n",
      "  MAPE: 1.71%\n",
      "✅ Saved plot for cbbl to plots/cbbl.png\n",
      "✅ CFCL → Predicted LTP: 317.18\n"
     ]
    },
    {
     "name": "stderr",
     "output_type": "stream",
     "text": [
      "C:\\Users\\Sanskriti Poudel\\New folder\\Lib\\site-packages\\sklearn\\base.py:486: UserWarning: X has feature names, but MinMaxScaler was fitted without feature names\n",
      "  warnings.warn(\n"
     ]
    },
    {
     "name": "stdout",
     "output_type": "stream",
     "text": [
      "📊 Validation metrics for cfcl:\n",
      "  MAE: 9.79\n",
      "  RMSE: 12.97\n",
      "  R2: 0.882\n",
      "  MAPE: 2.90%\n",
      "✅ Saved plot for cfcl to plots/cfcl.png\n",
      "✅ CGH → Predicted LTP: 1124.77\n"
     ]
    },
    {
     "name": "stderr",
     "output_type": "stream",
     "text": [
      "C:\\Users\\Sanskriti Poudel\\New folder\\Lib\\site-packages\\sklearn\\base.py:486: UserWarning: X has feature names, but MinMaxScaler was fitted without feature names\n",
      "  warnings.warn(\n"
     ]
    },
    {
     "name": "stdout",
     "output_type": "stream",
     "text": [
      "📊 Validation metrics for cgh:\n",
      "  MAE: 26.74\n",
      "  RMSE: 36.06\n",
      "  R2: 0.901\n",
      "  MAPE: 2.20%\n",
      "✅ Saved plot for cgh to plots/cgh.png\n",
      "✅ CHCL → Predicted LTP: 479.47\n"
     ]
    },
    {
     "name": "stderr",
     "output_type": "stream",
     "text": [
      "C:\\Users\\Sanskriti Poudel\\New folder\\Lib\\site-packages\\sklearn\\base.py:486: UserWarning: X has feature names, but MinMaxScaler was fitted without feature names\n",
      "  warnings.warn(\n"
     ]
    },
    {
     "name": "stdout",
     "output_type": "stream",
     "text": [
      "📊 Validation metrics for chcl:\n",
      "  MAE: 7.61\n",
      "  RMSE: 9.62\n",
      "  R2: 0.930\n",
      "  MAPE: 1.47%\n",
      "✅ Saved plot for chcl to plots/chcl.png\n",
      "✅ CHDC → Predicted LTP: 746.49\n"
     ]
    },
    {
     "name": "stderr",
     "output_type": "stream",
     "text": [
      "C:\\Users\\Sanskriti Poudel\\New folder\\Lib\\site-packages\\sklearn\\base.py:486: UserWarning: X has feature names, but MinMaxScaler was fitted without feature names\n",
      "  warnings.warn(\n"
     ]
    },
    {
     "name": "stdout",
     "output_type": "stream",
     "text": [
      "📊 Validation metrics for chdc:\n",
      "  MAE: 18.11\n",
      "  RMSE: 24.50\n",
      "  R2: 0.961\n",
      "  MAPE: 2.11%\n",
      "✅ Saved plot for chdc to plots/chdc.png\n",
      "✅ CHL → Predicted LTP: 324.01\n"
     ]
    },
    {
     "name": "stderr",
     "output_type": "stream",
     "text": [
      "C:\\Users\\Sanskriti Poudel\\New folder\\Lib\\site-packages\\sklearn\\base.py:486: UserWarning: X has feature names, but MinMaxScaler was fitted without feature names\n",
      "  warnings.warn(\n"
     ]
    },
    {
     "name": "stdout",
     "output_type": "stream",
     "text": [
      "📊 Validation metrics for chl:\n",
      "  MAE: 9.87\n",
      "  RMSE: 12.28\n",
      "  R2: 0.787\n",
      "  MAPE: 3.68%\n",
      "✅ Saved plot for chl to plots/chl.png\n",
      "✅ CIT → Predicted LTP: 2061.13\n"
     ]
    },
    {
     "name": "stderr",
     "output_type": "stream",
     "text": [
      "C:\\Users\\Sanskriti Poudel\\New folder\\Lib\\site-packages\\sklearn\\base.py:486: UserWarning: X has feature names, but MinMaxScaler was fitted without feature names\n",
      "  warnings.warn(\n"
     ]
    },
    {
     "name": "stdout",
     "output_type": "stream",
     "text": [
      "📊 Validation metrics for cit:\n",
      "  MAE: 27.22\n",
      "  RMSE: 40.77\n",
      "  R2: 0.953\n",
      "  MAPE: 1.23%\n",
      "✅ Saved plot for cit to plots/cit.png\n",
      "✅ CITY → Predicted LTP: 525.54\n"
     ]
    },
    {
     "name": "stderr",
     "output_type": "stream",
     "text": [
      "C:\\Users\\Sanskriti Poudel\\New folder\\Lib\\site-packages\\sklearn\\base.py:486: UserWarning: X has feature names, but MinMaxScaler was fitted without feature names\n",
      "  warnings.warn(\n"
     ]
    },
    {
     "name": "stdout",
     "output_type": "stream",
     "text": [
      "📊 Validation metrics for city:\n",
      "  MAE: 108.12\n",
      "  RMSE: 141.65\n",
      "  R2: 0.186\n",
      "  MAPE: 31.88%\n",
      "✅ Saved plot for city to plots/city.png\n",
      "✅ CLI → Predicted LTP: 449.14\n"
     ]
    },
    {
     "name": "stderr",
     "output_type": "stream",
     "text": [
      "C:\\Users\\Sanskriti Poudel\\New folder\\Lib\\site-packages\\sklearn\\base.py:486: UserWarning: X has feature names, but MinMaxScaler was fitted without feature names\n",
      "  warnings.warn(\n"
     ]
    },
    {
     "name": "stdout",
     "output_type": "stream",
     "text": [
      "📊 Validation metrics for cli:\n",
      "  MAE: 27.78\n",
      "  RMSE: 36.61\n",
      "  R2: 0.193\n",
      "  MAPE: 5.98%\n",
      "✅ Saved plot for cli to plots/cli.png\n",
      "✅ CORBL → Predicted LTP: 303.64\n"
     ]
    },
    {
     "name": "stderr",
     "output_type": "stream",
     "text": [
      "C:\\Users\\Sanskriti Poudel\\New folder\\Lib\\site-packages\\sklearn\\base.py:486: UserWarning: X has feature names, but MinMaxScaler was fitted without feature names\n",
      "  warnings.warn(\n"
     ]
    },
    {
     "name": "stdout",
     "output_type": "stream",
     "text": [
      "📊 Validation metrics for corbl:\n",
      "  MAE: 12.36\n",
      "  RMSE: 20.14\n",
      "  R2: 0.457\n",
      "  MAPE: 3.72%\n",
      "✅ Saved plot for corbl to plots/corbl.png\n",
      "✅ CYCL → Predicted LTP: 1051.72\n"
     ]
    },
    {
     "name": "stderr",
     "output_type": "stream",
     "text": [
      "C:\\Users\\Sanskriti Poudel\\New folder\\Lib\\site-packages\\sklearn\\base.py:486: UserWarning: X has feature names, but MinMaxScaler was fitted without feature names\n",
      "  warnings.warn(\n"
     ]
    },
    {
     "name": "stdout",
     "output_type": "stream",
     "text": [
      "📊 Validation metrics for cycl:\n",
      "  MAE: 492.23\n",
      "  RMSE: 605.19\n",
      "  R2: -1.046\n",
      "  MAPE: 26.01%\n",
      "✅ Saved plot for cycl to plots/cycl.png\n",
      "✅ CZBIL → Predicted LTP: 181.74\n"
     ]
    },
    {
     "name": "stderr",
     "output_type": "stream",
     "text": [
      "C:\\Users\\Sanskriti Poudel\\New folder\\Lib\\site-packages\\sklearn\\base.py:486: UserWarning: X has feature names, but MinMaxScaler was fitted without feature names\n",
      "  warnings.warn(\n"
     ]
    },
    {
     "name": "stdout",
     "output_type": "stream",
     "text": [
      "📊 Validation metrics for czbil:\n",
      "  MAE: 6.54\n",
      "  RMSE: 7.43\n",
      "  R2: 0.127\n",
      "  MAPE: 3.77%\n",
      "✅ Saved plot for czbil to plots/czbil.png\n",
      "✅ DDBL → Predicted LTP: 697.22\n"
     ]
    },
    {
     "name": "stderr",
     "output_type": "stream",
     "text": [
      "C:\\Users\\Sanskriti Poudel\\New folder\\Lib\\site-packages\\sklearn\\base.py:486: UserWarning: X has feature names, but MinMaxScaler was fitted without feature names\n",
      "  warnings.warn(\n"
     ]
    },
    {
     "name": "stdout",
     "output_type": "stream",
     "text": [
      "📊 Validation metrics for ddbl:\n",
      "  MAE: 17.81\n",
      "  RMSE: 23.45\n",
      "  R2: 0.875\n",
      "  MAPE: 2.51%\n",
      "✅ Saved plot for ddbl to plots/ddbl.png\n",
      "✅ DHPL → Predicted LTP: 226.81\n"
     ]
    },
    {
     "name": "stderr",
     "output_type": "stream",
     "text": [
      "C:\\Users\\Sanskriti Poudel\\New folder\\Lib\\site-packages\\sklearn\\base.py:486: UserWarning: X has feature names, but MinMaxScaler was fitted without feature names\n",
      "  warnings.warn(\n"
     ]
    },
    {
     "name": "stdout",
     "output_type": "stream",
     "text": [
      "📊 Validation metrics for dhpl:\n",
      "  MAE: 6.35\n",
      "  RMSE: 7.91\n",
      "  R2: 0.824\n",
      "  MAPE: 3.36%\n",
      "✅ Saved plot for dhpl to plots/dhpl.png\n",
      "✅ DLBS → Predicted LTP: 1071.16\n"
     ]
    },
    {
     "name": "stderr",
     "output_type": "stream",
     "text": [
      "C:\\Users\\Sanskriti Poudel\\New folder\\Lib\\site-packages\\sklearn\\base.py:486: UserWarning: X has feature names, but MinMaxScaler was fitted without feature names\n",
      "  warnings.warn(\n"
     ]
    },
    {
     "name": "stdout",
     "output_type": "stream",
     "text": [
      "📊 Validation metrics for dlbs:\n",
      "  MAE: 121.15\n",
      "  RMSE: 131.58\n",
      "  R2: 0.384\n",
      "  MAPE: 15.38%\n",
      "✅ Saved plot for dlbs to plots/dlbs.png\n",
      "✅ DOLTI → Predicted LTP: 289.43\n"
     ]
    },
    {
     "name": "stderr",
     "output_type": "stream",
     "text": [
      "C:\\Users\\Sanskriti Poudel\\New folder\\Lib\\site-packages\\sklearn\\base.py:486: UserWarning: X has feature names, but MinMaxScaler was fitted without feature names\n",
      "  warnings.warn(\n"
     ]
    },
    {
     "name": "stdout",
     "output_type": "stream",
     "text": [
      "📊 Validation metrics for dolti:\n",
      "  MAE: 40.80\n",
      "  RMSE: 41.96\n",
      "  R2: -1.090\n",
      "  MAPE: 18.72%\n",
      "✅ Saved plot for dolti to plots/dolti.png\n",
      "✅ DORDI → Predicted LTP: 340.31\n"
     ]
    },
    {
     "name": "stderr",
     "output_type": "stream",
     "text": [
      "C:\\Users\\Sanskriti Poudel\\New folder\\Lib\\site-packages\\sklearn\\base.py:486: UserWarning: X has feature names, but MinMaxScaler was fitted without feature names\n",
      "  warnings.warn(\n"
     ]
    },
    {
     "name": "stdout",
     "output_type": "stream",
     "text": [
      "📊 Validation metrics for dordi:\n",
      "  MAE: 46.89\n",
      "  RMSE: 47.96\n",
      "  R2: -3.082\n",
      "  MAPE: 18.34%\n",
      "✅ Saved plot for dordi to plots/dordi.png\n",
      "✅ EBL → Predicted LTP: 496.67\n"
     ]
    },
    {
     "name": "stderr",
     "output_type": "stream",
     "text": [
      "C:\\Users\\Sanskriti Poudel\\New folder\\Lib\\site-packages\\sklearn\\base.py:486: UserWarning: X has feature names, but MinMaxScaler was fitted without feature names\n",
      "  warnings.warn(\n"
     ]
    },
    {
     "name": "stdout",
     "output_type": "stream",
     "text": [
      "📊 Validation metrics for ebl:\n",
      "  MAE: 6.42\n",
      "  RMSE: 9.30\n",
      "  R2: 0.941\n",
      "  MAPE: 1.16%\n",
      "✅ Saved plot for ebl to plots/ebl.png\n",
      "✅ EDBL → Predicted LTP: 317.19\n"
     ]
    },
    {
     "name": "stderr",
     "output_type": "stream",
     "text": [
      "C:\\Users\\Sanskriti Poudel\\New folder\\Lib\\site-packages\\sklearn\\base.py:486: UserWarning: X has feature names, but MinMaxScaler was fitted without feature names\n",
      "  warnings.warn(\n"
     ]
    },
    {
     "name": "stdout",
     "output_type": "stream",
     "text": [
      "📊 Validation metrics for edbl:\n",
      "  MAE: 7.66\n",
      "  RMSE: 9.52\n",
      "  R2: 0.775\n",
      "  MAPE: 2.52%\n",
      "✅ Saved plot for edbl to plots/edbl.png\n",
      "✅ EHPL → Predicted LTP: 460.34\n"
     ]
    },
    {
     "name": "stderr",
     "output_type": "stream",
     "text": [
      "C:\\Users\\Sanskriti Poudel\\New folder\\Lib\\site-packages\\sklearn\\base.py:486: UserWarning: X has feature names, but MinMaxScaler was fitted without feature names\n",
      "  warnings.warn(\n"
     ]
    },
    {
     "name": "stdout",
     "output_type": "stream",
     "text": [
      "📊 Validation metrics for ehpl:\n",
      "  MAE: 31.91\n",
      "  RMSE: 35.13\n",
      "  R2: 0.029\n",
      "  MAPE: 9.37%\n",
      "✅ Saved plot for ehpl to plots/ehpl.png\n",
      "✅ ENL → Predicted LTP: 728.46\n"
     ]
    },
    {
     "name": "stderr",
     "output_type": "stream",
     "text": [
      "C:\\Users\\Sanskriti Poudel\\New folder\\Lib\\site-packages\\sklearn\\base.py:486: UserWarning: X has feature names, but MinMaxScaler was fitted without feature names\n",
      "  warnings.warn(\n"
     ]
    },
    {
     "name": "stdout",
     "output_type": "stream",
     "text": [
      "📊 Validation metrics for enl:\n",
      "  MAE: 61.65\n",
      "  RMSE: 70.01\n",
      "  R2: 0.566\n",
      "  MAPE: 9.36%\n",
      "✅ Saved plot for enl to plots/enl.png\n",
      "✅ FMDBL → Predicted LTP: 567.45\n"
     ]
    },
    {
     "name": "stderr",
     "output_type": "stream",
     "text": [
      "C:\\Users\\Sanskriti Poudel\\New folder\\Lib\\site-packages\\sklearn\\base.py:486: UserWarning: X has feature names, but MinMaxScaler was fitted without feature names\n",
      "  warnings.warn(\n"
     ]
    },
    {
     "name": "stdout",
     "output_type": "stream",
     "text": [
      "📊 Validation metrics for fmdbl:\n",
      "  MAE: 26.92\n",
      "  RMSE: 32.52\n",
      "  R2: 0.846\n",
      "  MAPE: 4.70%\n",
      "✅ Saved plot for fmdbl to plots/fmdbl.png\n",
      "✅ FOWAD → Predicted LTP: 1167.60\n"
     ]
    },
    {
     "name": "stderr",
     "output_type": "stream",
     "text": [
      "C:\\Users\\Sanskriti Poudel\\New folder\\Lib\\site-packages\\sklearn\\base.py:486: UserWarning: X has feature names, but MinMaxScaler was fitted without feature names\n",
      "  warnings.warn(\n"
     ]
    },
    {
     "name": "stdout",
     "output_type": "stream",
     "text": [
      "📊 Validation metrics for fowad:\n",
      "  MAE: 25.80\n",
      "  RMSE: 34.41\n",
      "  R2: 0.774\n",
      "  MAPE: 2.07%\n",
      "✅ Saved plot for fowad to plots/fowad.png\n",
      "✅ GBBL → Predicted LTP: 358.35\n"
     ]
    },
    {
     "name": "stderr",
     "output_type": "stream",
     "text": [
      "C:\\Users\\Sanskriti Poudel\\New folder\\Lib\\site-packages\\sklearn\\base.py:486: UserWarning: X has feature names, but MinMaxScaler was fitted without feature names\n",
      "  warnings.warn(\n"
     ]
    },
    {
     "name": "stdout",
     "output_type": "stream",
     "text": [
      "📊 Validation metrics for gbbl:\n",
      "  MAE: 5.53\n",
      "  RMSE: 7.16\n",
      "  R2: 0.832\n",
      "  MAPE: 1.49%\n",
      "✅ Saved plot for gbbl to plots/gbbl.png\n",
      "✅ GBIME → Predicted LTP: 186.71\n"
     ]
    },
    {
     "name": "stderr",
     "output_type": "stream",
     "text": [
      "C:\\Users\\Sanskriti Poudel\\New folder\\Lib\\site-packages\\sklearn\\base.py:486: UserWarning: X has feature names, but MinMaxScaler was fitted without feature names\n",
      "  warnings.warn(\n"
     ]
    },
    {
     "name": "stdout",
     "output_type": "stream",
     "text": [
      "📊 Validation metrics for gbime:\n",
      "  MAE: 2.59\n",
      "  RMSE: 3.90\n",
      "  R2: 0.923\n",
      "  MAPE: 1.31%\n",
      "✅ Saved plot for gbime to plots/gbime.png\n",
      "✅ GBLBS → Predicted LTP: 467.60\n"
     ]
    },
    {
     "name": "stderr",
     "output_type": "stream",
     "text": [
      "C:\\Users\\Sanskriti Poudel\\New folder\\Lib\\site-packages\\sklearn\\base.py:486: UserWarning: X has feature names, but MinMaxScaler was fitted without feature names\n",
      "  warnings.warn(\n"
     ]
    },
    {
     "name": "stdout",
     "output_type": "stream",
     "text": [
      "📊 Validation metrics for gblbs:\n",
      "  MAE: 13.53\n",
      "  RMSE: 19.99\n",
      "  R2: 0.879\n",
      "  MAPE: 2.60%\n",
      "✅ Saved plot for gblbs to plots/gblbs.png\n",
      "✅ GCIL → Predicted LTP: 558.93\n"
     ]
    },
    {
     "name": "stderr",
     "output_type": "stream",
     "text": [
      "C:\\Users\\Sanskriti Poudel\\New folder\\Lib\\site-packages\\sklearn\\base.py:486: UserWarning: X has feature names, but MinMaxScaler was fitted without feature names\n",
      "  warnings.warn(\n"
     ]
    },
    {
     "name": "stdout",
     "output_type": "stream",
     "text": [
      "📊 Validation metrics for gcil:\n",
      "  MAE: 24.09\n",
      "  RMSE: 31.42\n",
      "  R2: 0.646\n",
      "  MAPE: 5.52%\n",
      "✅ Saved plot for gcil to plots/gcil.png\n",
      "✅ GFCL → Predicted LTP: 448.83\n"
     ]
    },
    {
     "name": "stderr",
     "output_type": "stream",
     "text": [
      "C:\\Users\\Sanskriti Poudel\\New folder\\Lib\\site-packages\\sklearn\\base.py:486: UserWarning: X has feature names, but MinMaxScaler was fitted without feature names\n",
      "  warnings.warn(\n"
     ]
    },
    {
     "name": "stdout",
     "output_type": "stream",
     "text": [
      "📊 Validation metrics for gfcl:\n",
      "  MAE: 13.23\n",
      "  RMSE: 16.82\n",
      "  R2: 0.609\n",
      "  MAPE: 2.85%\n",
      "✅ Saved plot for gfcl to plots/gfcl.png\n",
      "✅ GHL → Predicted LTP: 265.08\n"
     ]
    },
    {
     "name": "stderr",
     "output_type": "stream",
     "text": [
      "C:\\Users\\Sanskriti Poudel\\New folder\\Lib\\site-packages\\sklearn\\base.py:486: UserWarning: X has feature names, but MinMaxScaler was fitted without feature names\n",
      "  warnings.warn(\n"
     ]
    },
    {
     "name": "stdout",
     "output_type": "stream",
     "text": [
      "📊 Validation metrics for ghl:\n",
      "  MAE: 4.00\n",
      "  RMSE: 4.96\n",
      "  R2: 0.957\n",
      "  MAPE: 1.76%\n",
      "✅ Saved plot for ghl to plots/ghl.png\n",
      "✅ GILB → Predicted LTP: 771.83\n"
     ]
    },
    {
     "name": "stderr",
     "output_type": "stream",
     "text": [
      "C:\\Users\\Sanskriti Poudel\\New folder\\Lib\\site-packages\\sklearn\\base.py:486: UserWarning: X has feature names, but MinMaxScaler was fitted without feature names\n",
      "  warnings.warn(\n"
     ]
    },
    {
     "name": "stdout",
     "output_type": "stream",
     "text": [
      "📊 Validation metrics for gilb:\n",
      "  MAE: 27.78\n",
      "  RMSE: 36.43\n",
      "  R2: 0.855\n",
      "  MAPE: 3.17%\n",
      "✅ Saved plot for gilb to plots/gilb.png\n",
      "✅ GLBSL → Predicted LTP: 648.22\n"
     ]
    },
    {
     "name": "stderr",
     "output_type": "stream",
     "text": [
      "C:\\Users\\Sanskriti Poudel\\New folder\\Lib\\site-packages\\sklearn\\base.py:486: UserWarning: X has feature names, but MinMaxScaler was fitted without feature names\n",
      "  warnings.warn(\n"
     ]
    },
    {
     "name": "stdout",
     "output_type": "stream",
     "text": [
      "📊 Validation metrics for glbsl:\n",
      "  MAE: 25.18\n",
      "  RMSE: 32.91\n",
      "  R2: -1.366\n",
      "  MAPE: 3.46%\n",
      "✅ Saved plot for glbsl to plots/glbsl.png\n",
      "✅ GLH → Predicted LTP: 291.14\n"
     ]
    },
    {
     "name": "stderr",
     "output_type": "stream",
     "text": [
      "C:\\Users\\Sanskriti Poudel\\New folder\\Lib\\site-packages\\sklearn\\base.py:486: UserWarning: X has feature names, but MinMaxScaler was fitted without feature names\n",
      "  warnings.warn(\n"
     ]
    },
    {
     "name": "stdout",
     "output_type": "stream",
     "text": [
      "📊 Validation metrics for glh:\n",
      "  MAE: 5.70\n",
      "  RMSE: 7.76\n",
      "  R2: 0.813\n",
      "  MAPE: 2.15%\n",
      "✅ Saved plot for glh to plots/glh.png\n",
      "✅ GMFBS → Predicted LTP: 878.00\n"
     ]
    },
    {
     "name": "stderr",
     "output_type": "stream",
     "text": [
      "C:\\Users\\Sanskriti Poudel\\New folder\\Lib\\site-packages\\sklearn\\base.py:486: UserWarning: X has feature names, but MinMaxScaler was fitted without feature names\n",
      "  warnings.warn(\n"
     ]
    },
    {
     "name": "stdout",
     "output_type": "stream",
     "text": [
      "📊 Validation metrics for gmfbs:\n",
      "  MAE: 112.15\n",
      "  RMSE: 118.93\n",
      "  R2: -4.232\n",
      "  MAPE: 15.68%\n",
      "✅ Saved plot for gmfbs to plots/gmfbs.png\n",
      "✅ GMFIL → Predicted LTP: 328.00\n"
     ]
    },
    {
     "name": "stderr",
     "output_type": "stream",
     "text": [
      "C:\\Users\\Sanskriti Poudel\\New folder\\Lib\\site-packages\\sklearn\\base.py:486: UserWarning: X has feature names, but MinMaxScaler was fitted without feature names\n",
      "  warnings.warn(\n"
     ]
    },
    {
     "name": "stdout",
     "output_type": "stream",
     "text": [
      "📊 Validation metrics for gmfil:\n",
      "  MAE: 13.76\n",
      "  RMSE: 16.06\n",
      "  R2: 0.830\n",
      "  MAPE: 4.32%\n",
      "✅ Saved plot for gmfil to plots/gmfil.png\n",
      "✅ GMLI → Predicted LTP: 759.37\n",
      "⚠️ Not enough data to validate gmli\n",
      "✅ GRDBL → Predicted LTP: 317.89\n"
     ]
    },
    {
     "name": "stderr",
     "output_type": "stream",
     "text": [
      "C:\\Users\\Sanskriti Poudel\\New folder\\Lib\\site-packages\\sklearn\\base.py:486: UserWarning: X has feature names, but MinMaxScaler was fitted without feature names\n",
      "  warnings.warn(\n"
     ]
    },
    {
     "name": "stdout",
     "output_type": "stream",
     "text": [
      "📊 Validation metrics for grdbl:\n",
      "  MAE: 44.71\n",
      "  RMSE: 50.84\n",
      "  R2: -1.698\n",
      "  MAPE: 17.15%\n",
      "✅ Saved plot for grdbl to plots/grdbl.png\n",
      "✅ GUFL → Predicted LTP: 574.06\n"
     ]
    },
    {
     "name": "stderr",
     "output_type": "stream",
     "text": [
      "C:\\Users\\Sanskriti Poudel\\New folder\\Lib\\site-packages\\sklearn\\base.py:486: UserWarning: X has feature names, but MinMaxScaler was fitted without feature names\n",
      "  warnings.warn(\n"
     ]
    },
    {
     "name": "stdout",
     "output_type": "stream",
     "text": [
      "📊 Validation metrics for gufl:\n",
      "  MAE: 20.64\n",
      "  RMSE: 29.34\n",
      "  R2: 0.891\n",
      "  MAPE: 2.79%\n",
      "✅ Saved plot for gufl to plots/gufl.png\n",
      "✅ GVL → Predicted LTP: 413.48\n"
     ]
    },
    {
     "name": "stderr",
     "output_type": "stream",
     "text": [
      "C:\\Users\\Sanskriti Poudel\\New folder\\Lib\\site-packages\\sklearn\\base.py:486: UserWarning: X has feature names, but MinMaxScaler was fitted without feature names\n",
      "  warnings.warn(\n"
     ]
    },
    {
     "name": "stdout",
     "output_type": "stream",
     "text": [
      "📊 Validation metrics for gvl:\n",
      "  MAE: 16.17\n",
      "  RMSE: 22.04\n",
      "  R2: 0.323\n",
      "  MAPE: 4.18%\n",
      "✅ Saved plot for gvl to plots/gvl.png\n",
      "✅ HATHY → Predicted LTP: 914.41\n"
     ]
    },
    {
     "name": "stderr",
     "output_type": "stream",
     "text": [
      "C:\\Users\\Sanskriti Poudel\\New folder\\Lib\\site-packages\\sklearn\\base.py:486: UserWarning: X has feature names, but MinMaxScaler was fitted without feature names\n",
      "  warnings.warn(\n"
     ]
    },
    {
     "name": "stdout",
     "output_type": "stream",
     "text": [
      "📊 Validation metrics for hathy:\n",
      "  MAE: 218.57\n",
      "  RMSE: 310.09\n",
      "  R2: -0.456\n",
      "  MAPE: 52.06%\n",
      "✅ Saved plot for hathy to plots/hathy.png\n",
      "✅ HBL → Predicted LTP: 224.72\n"
     ]
    },
    {
     "name": "stderr",
     "output_type": "stream",
     "text": [
      "C:\\Users\\Sanskriti Poudel\\New folder\\Lib\\site-packages\\sklearn\\base.py:486: UserWarning: X has feature names, but MinMaxScaler was fitted without feature names\n",
      "  warnings.warn(\n"
     ]
    },
    {
     "name": "stdout",
     "output_type": "stream",
     "text": [
      "📊 Validation metrics for hbl:\n",
      "  MAE: 2.66\n",
      "  RMSE: 3.54\n",
      "  R2: 0.732\n",
      "  MAPE: 1.21%\n",
      "✅ Saved plot for hbl to plots/hbl.png\n",
      "✅ HDHPC → Predicted LTP: 220.74\n"
     ]
    },
    {
     "name": "stderr",
     "output_type": "stream",
     "text": [
      "C:\\Users\\Sanskriti Poudel\\New folder\\Lib\\site-packages\\sklearn\\base.py:486: UserWarning: X has feature names, but MinMaxScaler was fitted without feature names\n",
      "  warnings.warn(\n"
     ]
    },
    {
     "name": "stdout",
     "output_type": "stream",
     "text": [
      "📊 Validation metrics for hdhpc:\n",
      "  MAE: 3.29\n",
      "  RMSE: 4.36\n",
      "  R2: 0.973\n",
      "  MAPE: 1.93%\n",
      "✅ Saved plot for hdhpc to plots/hdhpc.png\n",
      "✅ HEI → Predicted LTP: 511.42\n"
     ]
    },
    {
     "name": "stderr",
     "output_type": "stream",
     "text": [
      "C:\\Users\\Sanskriti Poudel\\New folder\\Lib\\site-packages\\sklearn\\base.py:486: UserWarning: X has feature names, but MinMaxScaler was fitted without feature names\n",
      "  warnings.warn(\n"
     ]
    },
    {
     "name": "stdout",
     "output_type": "stream",
     "text": [
      "📊 Validation metrics for hei:\n",
      "  MAE: 50.88\n",
      "  RMSE: 55.34\n",
      "  R2: 0.487\n",
      "  MAPE: 10.09%\n",
      "✅ Saved plot for hei to plots/hei.png\n",
      "✅ HHL → Predicted LTP: 299.19\n"
     ]
    },
    {
     "name": "stderr",
     "output_type": "stream",
     "text": [
      "C:\\Users\\Sanskriti Poudel\\New folder\\Lib\\site-packages\\sklearn\\base.py:486: UserWarning: X has feature names, but MinMaxScaler was fitted without feature names\n",
      "  warnings.warn(\n"
     ]
    },
    {
     "name": "stdout",
     "output_type": "stream",
     "text": [
      "📊 Validation metrics for hhl:\n",
      "  MAE: 10.92\n",
      "  RMSE: 12.80\n",
      "  R2: 0.715\n",
      "  MAPE: 4.38%\n",
      "✅ Saved plot for hhl to plots/hhl.png\n",
      "✅ HIDCL → Predicted LTP: 192.37\n"
     ]
    },
    {
     "name": "stderr",
     "output_type": "stream",
     "text": [
      "C:\\Users\\Sanskriti Poudel\\New folder\\Lib\\site-packages\\sklearn\\base.py:486: UserWarning: X has feature names, but MinMaxScaler was fitted without feature names\n",
      "  warnings.warn(\n"
     ]
    },
    {
     "name": "stdout",
     "output_type": "stream",
     "text": [
      "📊 Validation metrics for hidcl:\n",
      "  MAE: 2.99\n",
      "  RMSE: 4.33\n",
      "  R2: 0.697\n",
      "  MAPE: 1.59%\n",
      "✅ Saved plot for hidcl to plots/hidcl.png\n",
      "✅ HLBSL → Predicted LTP: 629.72\n"
     ]
    },
    {
     "name": "stderr",
     "output_type": "stream",
     "text": [
      "C:\\Users\\Sanskriti Poudel\\New folder\\Lib\\site-packages\\sklearn\\base.py:486: UserWarning: X has feature names, but MinMaxScaler was fitted without feature names\n",
      "  warnings.warn(\n"
     ]
    },
    {
     "name": "stdout",
     "output_type": "stream",
     "text": [
      "📊 Validation metrics for hlbsl:\n",
      "  MAE: 39.35\n",
      "  RMSE: 54.21\n",
      "  R2: 0.215\n",
      "  MAPE: 6.18%\n",
      "✅ Saved plot for hlbsl to plots/hlbsl.png\n",
      "✅ HLI → Predicted LTP: 372.18\n"
     ]
    },
    {
     "name": "stderr",
     "output_type": "stream",
     "text": [
      "C:\\Users\\Sanskriti Poudel\\New folder\\Lib\\site-packages\\sklearn\\base.py:486: UserWarning: X has feature names, but MinMaxScaler was fitted without feature names\n",
      "  warnings.warn(\n"
     ]
    },
    {
     "name": "stdout",
     "output_type": "stream",
     "text": [
      "📊 Validation metrics for hli:\n",
      "  MAE: 7.47\n",
      "  RMSE: 11.28\n",
      "  R2: 0.934\n",
      "  MAPE: 1.66%\n",
      "✅ Saved plot for hli to plots/hli.png\n",
      "✅ HPPL → Predicted LTP: 295.80\n"
     ]
    },
    {
     "name": "stderr",
     "output_type": "stream",
     "text": [
      "C:\\Users\\Sanskriti Poudel\\New folder\\Lib\\site-packages\\sklearn\\base.py:486: UserWarning: X has feature names, but MinMaxScaler was fitted without feature names\n",
      "  warnings.warn(\n"
     ]
    },
    {
     "name": "stdout",
     "output_type": "stream",
     "text": [
      "📊 Validation metrics for hppl:\n",
      "  MAE: 7.20\n",
      "  RMSE: 9.86\n",
      "  R2: 0.644\n",
      "  MAPE: 2.59%\n",
      "✅ Saved plot for hppl to plots/hppl.png\n",
      "✅ HRL → Predicted LTP: 576.44\n"
     ]
    },
    {
     "name": "stderr",
     "output_type": "stream",
     "text": [
      "C:\\Users\\Sanskriti Poudel\\New folder\\Lib\\site-packages\\sklearn\\base.py:486: UserWarning: X has feature names, but MinMaxScaler was fitted without feature names\n",
      "  warnings.warn(\n"
     ]
    },
    {
     "name": "stdout",
     "output_type": "stream",
     "text": [
      "📊 Validation metrics for hrl:\n",
      "  MAE: 33.50\n",
      "  RMSE: 49.35\n",
      "  R2: 0.320\n",
      "  MAPE: 6.30%\n",
      "✅ Saved plot for hrl to plots/hrl.png\n",
      "✅ HURJA → Predicted LTP: 335.47\n"
     ]
    },
    {
     "name": "stderr",
     "output_type": "stream",
     "text": [
      "C:\\Users\\Sanskriti Poudel\\New folder\\Lib\\site-packages\\sklearn\\base.py:486: UserWarning: X has feature names, but MinMaxScaler was fitted without feature names\n",
      "  warnings.warn(\n"
     ]
    },
    {
     "name": "stdout",
     "output_type": "stream",
     "text": [
      "📊 Validation metrics for hurja:\n",
      "  MAE: 7.16\n",
      "  RMSE: 9.48\n",
      "  R2: 0.862\n",
      "  MAPE: 2.62%\n",
      "✅ Saved plot for hurja to plots/hurja.png\n",
      "✅ ICFC → Predicted LTP: 427.57\n"
     ]
    },
    {
     "name": "stderr",
     "output_type": "stream",
     "text": [
      "C:\\Users\\Sanskriti Poudel\\New folder\\Lib\\site-packages\\sklearn\\base.py:486: UserWarning: X has feature names, but MinMaxScaler was fitted without feature names\n",
      "  warnings.warn(\n"
     ]
    },
    {
     "name": "stdout",
     "output_type": "stream",
     "text": [
      "📊 Validation metrics for icfc:\n",
      "  MAE: 14.62\n",
      "  RMSE: 16.52\n",
      "  R2: 0.868\n",
      "  MAPE: 3.29%\n",
      "✅ Saved plot for icfc to plots/icfc.png\n",
      "✅ IGI → Predicted LTP: 462.63\n"
     ]
    },
    {
     "name": "stderr",
     "output_type": "stream",
     "text": [
      "C:\\Users\\Sanskriti Poudel\\New folder\\Lib\\site-packages\\sklearn\\base.py:486: UserWarning: X has feature names, but MinMaxScaler was fitted without feature names\n",
      "  warnings.warn(\n"
     ]
    },
    {
     "name": "stdout",
     "output_type": "stream",
     "text": [
      "📊 Validation metrics for igi:\n",
      "  MAE: 35.47\n",
      "  RMSE: 45.57\n",
      "  R2: 0.676\n",
      "  MAPE: 8.65%\n",
      "✅ Saved plot for igi to plots/igi.png\n",
      "✅ IHL → Predicted LTP: 333.81\n"
     ]
    },
    {
     "name": "stderr",
     "output_type": "stream",
     "text": [
      "C:\\Users\\Sanskriti Poudel\\New folder\\Lib\\site-packages\\sklearn\\base.py:486: UserWarning: X has feature names, but MinMaxScaler was fitted without feature names\n",
      "  warnings.warn(\n"
     ]
    },
    {
     "name": "stdout",
     "output_type": "stream",
     "text": [
      "📊 Validation metrics for ihl:\n",
      "  MAE: 57.05\n",
      "  RMSE: 58.94\n",
      "  R2: -3.911\n",
      "  MAPE: 23.93%\n",
      "✅ Saved plot for ihl to plots/ihl.png\n",
      "✅ ILBS → Predicted LTP: 652.99\n"
     ]
    },
    {
     "name": "stderr",
     "output_type": "stream",
     "text": [
      "C:\\Users\\Sanskriti Poudel\\New folder\\Lib\\site-packages\\sklearn\\base.py:486: UserWarning: X has feature names, but MinMaxScaler was fitted without feature names\n",
      "  warnings.warn(\n"
     ]
    },
    {
     "name": "stdout",
     "output_type": "stream",
     "text": [
      "📊 Validation metrics for ilbs:\n",
      "  MAE: 19.58\n",
      "  RMSE: 23.82\n",
      "  R2: 0.708\n",
      "  MAPE: 3.06%\n",
      "✅ Saved plot for ilbs to plots/ilbs.png\n",
      "✅ ILI → Predicted LTP: 581.71\n"
     ]
    },
    {
     "name": "stderr",
     "output_type": "stream",
     "text": [
      "C:\\Users\\Sanskriti Poudel\\New folder\\Lib\\site-packages\\sklearn\\base.py:486: UserWarning: X has feature names, but MinMaxScaler was fitted without feature names\n",
      "  warnings.warn(\n"
     ]
    },
    {
     "name": "stdout",
     "output_type": "stream",
     "text": [
      "📊 Validation metrics for ili:\n",
      "  MAE: 9.12\n",
      "  RMSE: 11.62\n",
      "  R2: 0.905\n",
      "  MAPE: 1.72%\n",
      "✅ Saved plot for ili to plots/ili.png\n",
      "✅ JBBL → Predicted LTP: 277.60\n"
     ]
    },
    {
     "name": "stderr",
     "output_type": "stream",
     "text": [
      "C:\\Users\\Sanskriti Poudel\\New folder\\Lib\\site-packages\\sklearn\\base.py:486: UserWarning: X has feature names, but MinMaxScaler was fitted without feature names\n",
      "  warnings.warn(\n"
     ]
    },
    {
     "name": "stdout",
     "output_type": "stream",
     "text": [
      "📊 Validation metrics for jbbl:\n",
      "  MAE: 8.67\n",
      "  RMSE: 10.18\n",
      "  R2: 0.846\n",
      "  MAPE: 3.10%\n",
      "✅ Saved plot for jbbl to plots/jbbl.png\n",
      "✅ JBLB → Predicted LTP: 1389.90\n"
     ]
    },
    {
     "name": "stderr",
     "output_type": "stream",
     "text": [
      "C:\\Users\\Sanskriti Poudel\\New folder\\Lib\\site-packages\\sklearn\\base.py:486: UserWarning: X has feature names, but MinMaxScaler was fitted without feature names\n",
      "  warnings.warn(\n"
     ]
    },
    {
     "name": "stdout",
     "output_type": "stream",
     "text": [
      "📊 Validation metrics for jblb:\n",
      "  MAE: 20.12\n",
      "  RMSE: 30.98\n",
      "  R2: 0.876\n",
      "  MAPE: 1.31%\n",
      "✅ Saved plot for jblb to plots/jblb.png\n",
      "✅ JFL → Predicted LTP: 363.38\n"
     ]
    },
    {
     "name": "stderr",
     "output_type": "stream",
     "text": [
      "C:\\Users\\Sanskriti Poudel\\New folder\\Lib\\site-packages\\sklearn\\base.py:486: UserWarning: X has feature names, but MinMaxScaler was fitted without feature names\n",
      "  warnings.warn(\n"
     ]
    },
    {
     "name": "stdout",
     "output_type": "stream",
     "text": [
      "📊 Validation metrics for jfl:\n",
      "  MAE: 9.07\n",
      "  RMSE: 12.84\n",
      "  R2: 0.711\n",
      "  MAPE: 2.33%\n",
      "✅ Saved plot for jfl to plots/jfl.png\n",
      "✅ JOSHI → Predicted LTP: 260.22\n"
     ]
    },
    {
     "name": "stderr",
     "output_type": "stream",
     "text": [
      "C:\\Users\\Sanskriti Poudel\\New folder\\Lib\\site-packages\\sklearn\\base.py:486: UserWarning: X has feature names, but MinMaxScaler was fitted without feature names\n",
      "  warnings.warn(\n"
     ]
    },
    {
     "name": "stdout",
     "output_type": "stream",
     "text": [
      "📊 Validation metrics for joshi:\n",
      "  MAE: 12.48\n",
      "  RMSE: 17.23\n",
      "  R2: 0.132\n",
      "  MAPE: 5.06%\n",
      "✅ Saved plot for joshi to plots/joshi.png\n",
      "✅ JSLBB → Predicted LTP: 894.64\n"
     ]
    },
    {
     "name": "stderr",
     "output_type": "stream",
     "text": [
      "C:\\Users\\Sanskriti Poudel\\New folder\\Lib\\site-packages\\sklearn\\base.py:486: UserWarning: X has feature names, but MinMaxScaler was fitted without feature names\n",
      "  warnings.warn(\n"
     ]
    },
    {
     "name": "stdout",
     "output_type": "stream",
     "text": [
      "📊 Validation metrics for jslbb:\n",
      "  MAE: 25.96\n",
      "  RMSE: 33.65\n",
      "  R2: 0.710\n",
      "  MAPE: 2.65%\n",
      "✅ Saved plot for jslbb to plots/jslbb.png\n",
      "✅ KBL → Predicted LTP: 175.34\n"
     ]
    },
    {
     "name": "stderr",
     "output_type": "stream",
     "text": [
      "C:\\Users\\Sanskriti Poudel\\New folder\\Lib\\site-packages\\sklearn\\base.py:486: UserWarning: X has feature names, but MinMaxScaler was fitted without feature names\n",
      "  warnings.warn(\n"
     ]
    },
    {
     "name": "stdout",
     "output_type": "stream",
     "text": [
      "📊 Validation metrics for kbl:\n",
      "  MAE: 2.56\n",
      "  RMSE: 3.66\n",
      "  R2: 0.604\n",
      "  MAPE: 1.51%\n",
      "✅ Saved plot for kbl to plots/kbl.png\n",
      "✅ KBSH → Predicted LTP: 1086.59\n"
     ]
    },
    {
     "name": "stderr",
     "output_type": "stream",
     "text": [
      "C:\\Users\\Sanskriti Poudel\\New folder\\Lib\\site-packages\\sklearn\\base.py:486: UserWarning: X has feature names, but MinMaxScaler was fitted without feature names\n",
      "  warnings.warn(\n"
     ]
    },
    {
     "name": "stdout",
     "output_type": "stream",
     "text": [
      "📊 Validation metrics for kbsh:\n",
      "  MAE: 372.19\n",
      "  RMSE: 377.46\n",
      "  R2: -28.597\n",
      "  MAPE: 46.88%\n",
      "✅ Saved plot for kbsh to plots/kbsh.png\n",
      "✅ KDL → Predicted LTP: 536.65\n"
     ]
    },
    {
     "name": "stderr",
     "output_type": "stream",
     "text": [
      "C:\\Users\\Sanskriti Poudel\\New folder\\Lib\\site-packages\\sklearn\\base.py:486: UserWarning: X has feature names, but MinMaxScaler was fitted without feature names\n",
      "  warnings.warn(\n"
     ]
    },
    {
     "name": "stdout",
     "output_type": "stream",
     "text": [
      "📊 Validation metrics for kdl:\n",
      "  MAE: 46.20\n",
      "  RMSE: 79.87\n",
      "  R2: 0.828\n",
      "  MAPE: 10.25%\n",
      "✅ Saved plot for kdl to plots/kdl.png\n",
      "✅ KKHC → Predicted LTP: 253.36\n"
     ]
    },
    {
     "name": "stderr",
     "output_type": "stream",
     "text": [
      "C:\\Users\\Sanskriti Poudel\\New folder\\Lib\\site-packages\\sklearn\\base.py:486: UserWarning: X has feature names, but MinMaxScaler was fitted without feature names\n",
      "  warnings.warn(\n"
     ]
    },
    {
     "name": "stdout",
     "output_type": "stream",
     "text": [
      "📊 Validation metrics for kkhc:\n",
      "  MAE: 10.56\n",
      "  RMSE: 12.47\n",
      "  R2: 0.475\n",
      "  MAPE: 5.17%\n",
      "✅ Saved plot for kkhc to plots/kkhc.png\n",
      "✅ KMCDB → Predicted LTP: 631.72\n"
     ]
    },
    {
     "name": "stderr",
     "output_type": "stream",
     "text": [
      "C:\\Users\\Sanskriti Poudel\\New folder\\Lib\\site-packages\\sklearn\\base.py:486: UserWarning: X has feature names, but MinMaxScaler was fitted without feature names\n",
      "  warnings.warn(\n"
     ]
    },
    {
     "name": "stdout",
     "output_type": "stream",
     "text": [
      "📊 Validation metrics for kmcdb:\n",
      "  MAE: 41.11\n",
      "  RMSE: 47.45\n",
      "  R2: 0.399\n",
      "  MAPE: 6.28%\n",
      "✅ Saved plot for kmcdb to plots/kmcdb.png\n",
      "✅ KPCL → Predicted LTP: 339.72\n"
     ]
    },
    {
     "name": "stderr",
     "output_type": "stream",
     "text": [
      "C:\\Users\\Sanskriti Poudel\\New folder\\Lib\\site-packages\\sklearn\\base.py:486: UserWarning: X has feature names, but MinMaxScaler was fitted without feature names\n",
      "  warnings.warn(\n"
     ]
    },
    {
     "name": "stdout",
     "output_type": "stream",
     "text": [
      "📊 Validation metrics for kpcl:\n",
      "  MAE: 32.66\n",
      "  RMSE: 35.61\n",
      "  R2: -3.630\n",
      "  MAPE: 8.67%\n",
      "✅ Saved plot for kpcl to plots/kpcl.png\n",
      "✅ KSBBL → Predicted LTP: 316.89\n"
     ]
    },
    {
     "name": "stderr",
     "output_type": "stream",
     "text": [
      "C:\\Users\\Sanskriti Poudel\\New folder\\Lib\\site-packages\\sklearn\\base.py:486: UserWarning: X has feature names, but MinMaxScaler was fitted without feature names\n",
      "  warnings.warn(\n"
     ]
    },
    {
     "name": "stdout",
     "output_type": "stream",
     "text": [
      "📊 Validation metrics for ksbbl:\n",
      "  MAE: 8.58\n",
      "  RMSE: 10.45\n",
      "  R2: 0.767\n",
      "  MAPE: 2.75%\n",
      "✅ Saved plot for ksbbl to plots/ksbbl.png\n",
      "✅ LBBL → Predicted LTP: 365.21\n"
     ]
    },
    {
     "name": "stderr",
     "output_type": "stream",
     "text": [
      "C:\\Users\\Sanskriti Poudel\\New folder\\Lib\\site-packages\\sklearn\\base.py:486: UserWarning: X has feature names, but MinMaxScaler was fitted without feature names\n",
      "  warnings.warn(\n"
     ]
    },
    {
     "name": "stdout",
     "output_type": "stream",
     "text": [
      "📊 Validation metrics for lbbl:\n",
      "  MAE: 21.55\n",
      "  RMSE: 27.02\n",
      "  R2: 0.528\n",
      "  MAPE: 6.32%\n",
      "✅ Saved plot for lbbl to plots/lbbl.png\n",
      "✅ LICN → Predicted LTP: 1351.63\n"
     ]
    },
    {
     "name": "stderr",
     "output_type": "stream",
     "text": [
      "C:\\Users\\Sanskriti Poudel\\New folder\\Lib\\site-packages\\sklearn\\base.py:486: UserWarning: X has feature names, but MinMaxScaler was fitted without feature names\n",
      "  warnings.warn(\n"
     ]
    },
    {
     "name": "stdout",
     "output_type": "stream",
     "text": [
      "📊 Validation metrics for licn:\n",
      "  MAE: 18.62\n",
      "  RMSE: 27.07\n",
      "  R2: 0.960\n",
      "  MAPE: 1.27%\n",
      "✅ Saved plot for licn to plots/licn.png\n",
      "✅ LLBS → Predicted LTP: 740.16\n"
     ]
    },
    {
     "name": "stderr",
     "output_type": "stream",
     "text": [
      "C:\\Users\\Sanskriti Poudel\\New folder\\Lib\\site-packages\\sklearn\\base.py:486: UserWarning: X has feature names, but MinMaxScaler was fitted without feature names\n",
      "  warnings.warn(\n"
     ]
    },
    {
     "name": "stdout",
     "output_type": "stream",
     "text": [
      "📊 Validation metrics for llbs:\n",
      "  MAE: 37.83\n",
      "  RMSE: 47.44\n",
      "  R2: 0.543\n",
      "  MAPE: 4.82%\n",
      "✅ Saved plot for llbs to plots/llbs.png\n",
      "✅ LSL → Predicted LTP: 173.57\n"
     ]
    },
    {
     "name": "stderr",
     "output_type": "stream",
     "text": [
      "C:\\Users\\Sanskriti Poudel\\New folder\\Lib\\site-packages\\sklearn\\base.py:486: UserWarning: X has feature names, but MinMaxScaler was fitted without feature names\n",
      "  warnings.warn(\n"
     ]
    },
    {
     "name": "stdout",
     "output_type": "stream",
     "text": [
      "📊 Validation metrics for lsl:\n",
      "  MAE: 3.06\n",
      "  RMSE: 4.18\n",
      "  R2: 0.792\n",
      "  MAPE: 1.67%\n",
      "✅ Saved plot for lsl to plots/lsl.png\n",
      "✅ MAKAR → Predicted LTP: 291.82\n"
     ]
    },
    {
     "name": "stderr",
     "output_type": "stream",
     "text": [
      "C:\\Users\\Sanskriti Poudel\\New folder\\Lib\\site-packages\\sklearn\\base.py:486: UserWarning: X has feature names, but MinMaxScaler was fitted without feature names\n",
      "  warnings.warn(\n"
     ]
    },
    {
     "name": "stdout",
     "output_type": "stream",
     "text": [
      "📊 Validation metrics for makar:\n",
      "  MAE: 34.02\n",
      "  RMSE: 37.48\n",
      "  R2: -0.862\n",
      "  MAPE: 13.48%\n",
      "✅ Saved plot for makar to plots/makar.png\n",
      "✅ MATRI → Predicted LTP: 1344.10\n"
     ]
    },
    {
     "name": "stderr",
     "output_type": "stream",
     "text": [
      "C:\\Users\\Sanskriti Poudel\\New folder\\Lib\\site-packages\\sklearn\\base.py:486: UserWarning: X has feature names, but MinMaxScaler was fitted without feature names\n",
      "  warnings.warn(\n"
     ]
    },
    {
     "name": "stdout",
     "output_type": "stream",
     "text": [
      "📊 Validation metrics for matri:\n",
      "  MAE: 47.18\n",
      "  RMSE: 56.59\n",
      "  R2: 0.717\n",
      "  MAPE: 3.37%\n",
      "✅ Saved plot for matri to plots/matri.png\n",
      "✅ MBJC → Predicted LTP: 277.02\n"
     ]
    },
    {
     "name": "stderr",
     "output_type": "stream",
     "text": [
      "C:\\Users\\Sanskriti Poudel\\New folder\\Lib\\site-packages\\sklearn\\base.py:486: UserWarning: X has feature names, but MinMaxScaler was fitted without feature names\n",
      "  warnings.warn(\n"
     ]
    },
    {
     "name": "stdout",
     "output_type": "stream",
     "text": [
      "📊 Validation metrics for mbjc:\n",
      "  MAE: 26.38\n",
      "  RMSE: 30.17\n",
      "  R2: -1.561\n",
      "  MAPE: 8.47%\n",
      "✅ Saved plot for mbjc to plots/mbjc.png\n",
      "✅ MBL → Predicted LTP: 219.02\n"
     ]
    },
    {
     "name": "stderr",
     "output_type": "stream",
     "text": [
      "C:\\Users\\Sanskriti Poudel\\New folder\\Lib\\site-packages\\sklearn\\base.py:486: UserWarning: X has feature names, but MinMaxScaler was fitted without feature names\n",
      "  warnings.warn(\n"
     ]
    },
    {
     "name": "stdout",
     "output_type": "stream",
     "text": [
      "📊 Validation metrics for mbl:\n",
      "  MAE: 3.34\n",
      "  RMSE: 4.75\n",
      "  R2: 0.922\n",
      "  MAPE: 1.39%\n",
      "✅ Saved plot for mbl to plots/mbl.png\n",
      "✅ MCHL → Predicted LTP: 334.77\n"
     ]
    },
    {
     "name": "stderr",
     "output_type": "stream",
     "text": [
      "C:\\Users\\Sanskriti Poudel\\New folder\\Lib\\site-packages\\sklearn\\base.py:486: UserWarning: X has feature names, but MinMaxScaler was fitted without feature names\n",
      "  warnings.warn(\n"
     ]
    },
    {
     "name": "stdout",
     "output_type": "stream",
     "text": [
      "📊 Validation metrics for mchl:\n",
      "  MAE: 85.02\n",
      "  RMSE: 86.41\n",
      "  R2: -9.590\n",
      "  MAPE: 37.93%\n",
      "✅ Saved plot for mchl to plots/mchl.png\n",
      "✅ MDB → Predicted LTP: 383.49\n"
     ]
    },
    {
     "name": "stderr",
     "output_type": "stream",
     "text": [
      "C:\\Users\\Sanskriti Poudel\\New folder\\Lib\\site-packages\\sklearn\\base.py:486: UserWarning: X has feature names, but MinMaxScaler was fitted without feature names\n",
      "  warnings.warn(\n"
     ]
    },
    {
     "name": "stdout",
     "output_type": "stream",
     "text": [
      "📊 Validation metrics for mdb:\n",
      "  MAE: 8.11\n",
      "  RMSE: 9.75\n",
      "  R2: 0.762\n",
      "  MAPE: 2.12%\n",
      "✅ Saved plot for mdb to plots/mdb.png\n",
      "✅ MEHL → Predicted LTP: 281.18\n"
     ]
    },
    {
     "name": "stderr",
     "output_type": "stream",
     "text": [
      "C:\\Users\\Sanskriti Poudel\\New folder\\Lib\\site-packages\\sklearn\\base.py:486: UserWarning: X has feature names, but MinMaxScaler was fitted without feature names\n",
      "  warnings.warn(\n"
     ]
    },
    {
     "name": "stdout",
     "output_type": "stream",
     "text": [
      "📊 Validation metrics for mehl:\n",
      "  MAE: 39.71\n",
      "  RMSE: 51.84\n",
      "  R2: -0.289\n",
      "  MAPE: 18.48%\n",
      "✅ Saved plot for mehl to plots/mehl.png\n",
      "✅ MEL → Predicted LTP: 211.63\n"
     ]
    },
    {
     "name": "stderr",
     "output_type": "stream",
     "text": [
      "C:\\Users\\Sanskriti Poudel\\New folder\\Lib\\site-packages\\sklearn\\base.py:486: UserWarning: X has feature names, but MinMaxScaler was fitted without feature names\n",
      "  warnings.warn(\n"
     ]
    },
    {
     "name": "stdout",
     "output_type": "stream",
     "text": [
      "📊 Validation metrics for mel:\n",
      "  MAE: 16.53\n",
      "  RMSE: 18.83\n",
      "  R2: 0.214\n",
      "  MAPE: 9.60%\n",
      "✅ Saved plot for mel to plots/mel.png\n",
      "✅ MEN → Predicted LTP: 771.75\n"
     ]
    },
    {
     "name": "stderr",
     "output_type": "stream",
     "text": [
      "C:\\Users\\Sanskriti Poudel\\New folder\\Lib\\site-packages\\sklearn\\base.py:486: UserWarning: X has feature names, but MinMaxScaler was fitted without feature names\n",
      "  warnings.warn(\n"
     ]
    },
    {
     "name": "stdout",
     "output_type": "stream",
     "text": [
      "📊 Validation metrics for men:\n",
      "  MAE: 19.71\n",
      "  RMSE: 28.26\n",
      "  R2: 0.926\n",
      "  MAPE: 2.27%\n",
      "✅ Saved plot for men to plots/men.png\n",
      "✅ MERO → Predicted LTP: 543.27\n"
     ]
    },
    {
     "name": "stderr",
     "output_type": "stream",
     "text": [
      "C:\\Users\\Sanskriti Poudel\\New folder\\Lib\\site-packages\\sklearn\\base.py:486: UserWarning: X has feature names, but MinMaxScaler was fitted without feature names\n",
      "  warnings.warn(\n"
     ]
    },
    {
     "name": "stdout",
     "output_type": "stream",
     "text": [
      "📊 Validation metrics for mero:\n",
      "  MAE: 15.36\n",
      "  RMSE: 15.45\n",
      "  R2: 0.000\n",
      "  MAPE: 2.74%\n",
      "✅ Saved plot for mero to plots/mero.png\n",
      "✅ MFIL → Predicted LTP: 472.43\n"
     ]
    },
    {
     "name": "stderr",
     "output_type": "stream",
     "text": [
      "C:\\Users\\Sanskriti Poudel\\New folder\\Lib\\site-packages\\sklearn\\base.py:486: UserWarning: X has feature names, but MinMaxScaler was fitted without feature names\n",
      "  warnings.warn(\n"
     ]
    },
    {
     "name": "stdout",
     "output_type": "stream",
     "text": [
      "📊 Validation metrics for mfil:\n",
      "  MAE: 25.11\n",
      "  RMSE: 29.77\n",
      "  R2: 0.654\n",
      "  MAPE: 5.61%\n",
      "✅ Saved plot for mfil to plots/mfil.png\n",
      "✅ MHL → Predicted LTP: 375.40\n"
     ]
    },
    {
     "name": "stderr",
     "output_type": "stream",
     "text": [
      "C:\\Users\\Sanskriti Poudel\\New folder\\Lib\\site-packages\\sklearn\\base.py:486: UserWarning: X has feature names, but MinMaxScaler was fitted without feature names\n",
      "  warnings.warn(\n"
     ]
    },
    {
     "name": "stdout",
     "output_type": "stream",
     "text": [
      "📊 Validation metrics for mhl:\n",
      "  MAE: 15.46\n",
      "  RMSE: 18.79\n",
      "  R2: 0.624\n",
      "  MAPE: 4.89%\n",
      "✅ Saved plot for mhl to plots/mhl.png\n",
      "✅ MHNL → Predicted LTP: 216.86\n"
     ]
    },
    {
     "name": "stderr",
     "output_type": "stream",
     "text": [
      "C:\\Users\\Sanskriti Poudel\\New folder\\Lib\\site-packages\\sklearn\\base.py:486: UserWarning: X has feature names, but MinMaxScaler was fitted without feature names\n",
      "  warnings.warn(\n"
     ]
    },
    {
     "name": "stdout",
     "output_type": "stream",
     "text": [
      "📊 Validation metrics for mhnl:\n",
      "  MAE: 45.32\n",
      "  RMSE: 50.97\n",
      "  R2: -1.745\n",
      "  MAPE: 16.77%\n",
      "✅ Saved plot for mhnl to plots/mhnl.png\n",
      "✅ MKCL → Predicted LTP: 818.54\n"
     ]
    },
    {
     "name": "stderr",
     "output_type": "stream",
     "text": [
      "C:\\Users\\Sanskriti Poudel\\New folder\\Lib\\site-packages\\sklearn\\base.py:486: UserWarning: X has feature names, but MinMaxScaler was fitted without feature names\n",
      "  warnings.warn(\n"
     ]
    },
    {
     "name": "stdout",
     "output_type": "stream",
     "text": [
      "📊 Validation metrics for mkcl:\n",
      "  MAE: 125.53\n",
      "  RMSE: 193.18\n",
      "  R2: 0.123\n",
      "  MAPE: 26.98%\n",
      "✅ Saved plot for mkcl to plots/mkcl.png\n",
      "✅ MKHC → Predicted LTP: 320.00\n"
     ]
    },
    {
     "name": "stderr",
     "output_type": "stream",
     "text": [
      "C:\\Users\\Sanskriti Poudel\\New folder\\Lib\\site-packages\\sklearn\\base.py:486: UserWarning: X has feature names, but MinMaxScaler was fitted without feature names\n",
      "  warnings.warn(\n"
     ]
    },
    {
     "name": "stdout",
     "output_type": "stream",
     "text": [
      "📊 Validation metrics for mkhc:\n",
      "  MAE: 8.44\n",
      "  RMSE: 10.83\n",
      "  R2: 0.845\n",
      "  MAPE: 3.37%\n",
      "✅ Saved plot for mkhc to plots/mkhc.png\n",
      "✅ MKHL → Predicted LTP: 299.91\n"
     ]
    },
    {
     "name": "stderr",
     "output_type": "stream",
     "text": [
      "C:\\Users\\Sanskriti Poudel\\New folder\\Lib\\site-packages\\sklearn\\base.py:486: UserWarning: X has feature names, but MinMaxScaler was fitted without feature names\n",
      "  warnings.warn(\n"
     ]
    },
    {
     "name": "stdout",
     "output_type": "stream",
     "text": [
      "📊 Validation metrics for mkhl:\n",
      "  MAE: 22.31\n",
      "  RMSE: 27.26\n",
      "  R2: -0.454\n",
      "  MAPE: 8.57%\n",
      "✅ Saved plot for mkhl to plots/mkhl.png\n",
      "✅ MKJC → Predicted LTP: 392.32\n"
     ]
    },
    {
     "name": "stderr",
     "output_type": "stream",
     "text": [
      "C:\\Users\\Sanskriti Poudel\\New folder\\Lib\\site-packages\\sklearn\\base.py:486: UserWarning: X has feature names, but MinMaxScaler was fitted without feature names\n",
      "  warnings.warn(\n"
     ]
    },
    {
     "name": "stdout",
     "output_type": "stream",
     "text": [
      "📊 Validation metrics for mkjc:\n",
      "  MAE: 18.38\n",
      "  RMSE: 21.74\n",
      "  R2: 0.061\n",
      "  MAPE: 4.65%\n",
      "✅ Saved plot for mkjc to plots/mkjc.png\n",
      "✅ MLBBL → Predicted LTP: 766.64\n"
     ]
    },
    {
     "name": "stderr",
     "output_type": "stream",
     "text": [
      "C:\\Users\\Sanskriti Poudel\\New folder\\Lib\\site-packages\\sklearn\\base.py:486: UserWarning: X has feature names, but MinMaxScaler was fitted without feature names\n",
      "  warnings.warn(\n"
     ]
    },
    {
     "name": "stdout",
     "output_type": "stream",
     "text": [
      "📊 Validation metrics for mlbbl:\n",
      "  MAE: 28.29\n",
      "  RMSE: 39.86\n",
      "  R2: 0.858\n",
      "  MAPE: 3.35%\n",
      "✅ Saved plot for mlbbl to plots/mlbbl.png\n",
      "✅ MLBL → Predicted LTP: 315.02\n"
     ]
    },
    {
     "name": "stderr",
     "output_type": "stream",
     "text": [
      "C:\\Users\\Sanskriti Poudel\\New folder\\Lib\\site-packages\\sklearn\\base.py:486: UserWarning: X has feature names, but MinMaxScaler was fitted without feature names\n",
      "  warnings.warn(\n"
     ]
    },
    {
     "name": "stdout",
     "output_type": "stream",
     "text": [
      "📊 Validation metrics for mlbl:\n",
      "  MAE: 12.11\n",
      "  RMSE: 14.79\n",
      "  R2: 0.257\n",
      "  MAPE: 3.75%\n",
      "✅ Saved plot for mlbl to plots/mlbl.png\n",
      "✅ MLBS → Predicted LTP: 759.02\n"
     ]
    },
    {
     "name": "stderr",
     "output_type": "stream",
     "text": [
      "C:\\Users\\Sanskriti Poudel\\New folder\\Lib\\site-packages\\sklearn\\base.py:486: UserWarning: X has feature names, but MinMaxScaler was fitted without feature names\n",
      "  warnings.warn(\n"
     ]
    },
    {
     "name": "stdout",
     "output_type": "stream",
     "text": [
      "📊 Validation metrics for mlbs:\n",
      "  MAE: 23.96\n",
      "  RMSE: 30.73\n",
      "  R2: 0.489\n",
      "  MAPE: 3.17%\n",
      "✅ Saved plot for mlbs to plots/mlbs.png\n",
      "✅ MLBSL → Predicted LTP: 2053.00\n"
     ]
    },
    {
     "name": "stderr",
     "output_type": "stream",
     "text": [
      "C:\\Users\\Sanskriti Poudel\\New folder\\Lib\\site-packages\\sklearn\\base.py:486: UserWarning: X has feature names, but MinMaxScaler was fitted without feature names\n",
      "  warnings.warn(\n"
     ]
    },
    {
     "name": "stdout",
     "output_type": "stream",
     "text": [
      "📊 Validation metrics for mlbsl:\n",
      "  MAE: 26.09\n",
      "  RMSE: 37.96\n",
      "  R2: 0.869\n",
      "  MAPE: 1.33%\n",
      "✅ Saved plot for mlbsl to plots/mlbsl.png\n",
      "✅ MMKJL → Predicted LTP: 448.10\n"
     ]
    },
    {
     "name": "stderr",
     "output_type": "stream",
     "text": [
      "C:\\Users\\Sanskriti Poudel\\New folder\\Lib\\site-packages\\sklearn\\base.py:486: UserWarning: X has feature names, but MinMaxScaler was fitted without feature names\n",
      "  warnings.warn(\n"
     ]
    },
    {
     "name": "stdout",
     "output_type": "stream",
     "text": [
      "📊 Validation metrics for mmkjl:\n",
      "  MAE: 90.92\n",
      "  RMSE: 100.64\n",
      "  R2: -1.843\n",
      "  MAPE: 26.47%\n",
      "✅ Saved plot for mmkjl to plots/mmkjl.png\n",
      "✅ MNBBL → Predicted LTP: 394.24\n"
     ]
    },
    {
     "name": "stderr",
     "output_type": "stream",
     "text": [
      "C:\\Users\\Sanskriti Poudel\\New folder\\Lib\\site-packages\\sklearn\\base.py:486: UserWarning: X has feature names, but MinMaxScaler was fitted without feature names\n",
      "  warnings.warn(\n"
     ]
    },
    {
     "name": "stdout",
     "output_type": "stream",
     "text": [
      "📊 Validation metrics for mnbbl:\n",
      "  MAE: 4.73\n",
      "  RMSE: 6.46\n",
      "  R2: 0.709\n",
      "  MAPE: 1.17%\n",
      "✅ Saved plot for mnbbl to plots/mnbbl.png\n",
      "✅ MPFL → Predicted LTP: 327.35\n"
     ]
    },
    {
     "name": "stderr",
     "output_type": "stream",
     "text": [
      "C:\\Users\\Sanskriti Poudel\\New folder\\Lib\\site-packages\\sklearn\\base.py:486: UserWarning: X has feature names, but MinMaxScaler was fitted without feature names\n",
      "  warnings.warn(\n"
     ]
    },
    {
     "name": "stdout",
     "output_type": "stream",
     "text": [
      "📊 Validation metrics for mpfl:\n",
      "  MAE: 10.67\n",
      "  RMSE: 13.08\n",
      "  R2: 0.847\n",
      "  MAPE: 3.26%\n",
      "✅ Saved plot for mpfl to plots/mpfl.png\n",
      "✅ MSHL → Predicted LTP: 630.39\n"
     ]
    },
    {
     "name": "stderr",
     "output_type": "stream",
     "text": [
      "C:\\Users\\Sanskriti Poudel\\New folder\\Lib\\site-packages\\sklearn\\base.py:486: UserWarning: X has feature names, but MinMaxScaler was fitted without feature names\n",
      "  warnings.warn(\n"
     ]
    },
    {
     "name": "stdout",
     "output_type": "stream",
     "text": [
      "📊 Validation metrics for mshl:\n",
      "  MAE: 132.69\n",
      "  RMSE: 172.54\n",
      "  R2: -0.401\n",
      "  MAPE: 34.69%\n",
      "✅ Saved plot for mshl to plots/mshl.png\n",
      "✅ MSLB → Predicted LTP: 889.94\n"
     ]
    },
    {
     "name": "stderr",
     "output_type": "stream",
     "text": [
      "C:\\Users\\Sanskriti Poudel\\New folder\\Lib\\site-packages\\sklearn\\base.py:486: UserWarning: X has feature names, but MinMaxScaler was fitted without feature names\n",
      "  warnings.warn(\n"
     ]
    },
    {
     "name": "stdout",
     "output_type": "stream",
     "text": [
      "📊 Validation metrics for mslb:\n",
      "  MAE: 94.04\n",
      "  RMSE: 106.89\n",
      "  R2: -1.384\n",
      "  MAPE: 12.65%\n",
      "✅ Saved plot for mslb to plots/mslb.png\n",
      "✅ NABBC → Predicted LTP: 374.95\n"
     ]
    },
    {
     "name": "stderr",
     "output_type": "stream",
     "text": [
      "C:\\Users\\Sanskriti Poudel\\New folder\\Lib\\site-packages\\sklearn\\base.py:486: UserWarning: X has feature names, but MinMaxScaler was fitted without feature names\n",
      "  warnings.warn(\n"
     ]
    },
    {
     "name": "stdout",
     "output_type": "stream",
     "text": [
      "📊 Validation metrics for nabbc:\n",
      "  MAE: 14.32\n",
      "  RMSE: 18.87\n",
      "  R2: 0.042\n",
      "  MAPE: 3.55%\n",
      "✅ Saved plot for nabbc to plots/nabbc.png\n",
      "✅ NABIL → Predicted LTP: 587.50\n"
     ]
    },
    {
     "name": "stderr",
     "output_type": "stream",
     "text": [
      "C:\\Users\\Sanskriti Poudel\\New folder\\Lib\\site-packages\\sklearn\\base.py:486: UserWarning: X has feature names, but MinMaxScaler was fitted without feature names\n",
      "  warnings.warn(\n"
     ]
    },
    {
     "name": "stdout",
     "output_type": "stream",
     "text": [
      "📊 Validation metrics for nabil:\n",
      "  MAE: 5.63\n",
      "  RMSE: 8.09\n",
      "  R2: 0.628\n",
      "  MAPE: 0.93%\n",
      "✅ Saved plot for nabil to plots/nabil.png\n",
      "✅ NADEP → Predicted LTP: 529.76\n"
     ]
    },
    {
     "name": "stderr",
     "output_type": "stream",
     "text": [
      "C:\\Users\\Sanskriti Poudel\\New folder\\Lib\\site-packages\\sklearn\\base.py:486: UserWarning: X has feature names, but MinMaxScaler was fitted without feature names\n",
      "  warnings.warn(\n"
     ]
    },
    {
     "name": "stdout",
     "output_type": "stream",
     "text": [
      "📊 Validation metrics for nadep:\n",
      "  MAE: 16.57\n",
      "  RMSE: 21.91\n",
      "  R2: 0.732\n",
      "  MAPE: 2.89%\n",
      "✅ Saved plot for nadep to plots/nadep.png\n",
      "✅ NBL → Predicted LTP: 251.93\n"
     ]
    },
    {
     "name": "stderr",
     "output_type": "stream",
     "text": [
      "C:\\Users\\Sanskriti Poudel\\New folder\\Lib\\site-packages\\sklearn\\base.py:486: UserWarning: X has feature names, but MinMaxScaler was fitted without feature names\n",
      "  warnings.warn(\n"
     ]
    },
    {
     "name": "stdout",
     "output_type": "stream",
     "text": [
      "📊 Validation metrics for nbl:\n",
      "  MAE: 3.30\n",
      "  RMSE: 4.42\n",
      "  R2: 0.268\n",
      "  MAPE: 1.29%\n",
      "✅ Saved plot for nbl to plots/nbl.png\n",
      "✅ NESDO → Predicted LTP: 238.26\n"
     ]
    },
    {
     "name": "stderr",
     "output_type": "stream",
     "text": [
      "C:\\Users\\Sanskriti Poudel\\New folder\\Lib\\site-packages\\sklearn\\base.py:486: UserWarning: X has feature names, but MinMaxScaler was fitted without feature names\n",
      "  warnings.warn(\n"
     ]
    },
    {
     "name": "stdout",
     "output_type": "stream",
     "text": [
      "📊 Validation metrics for nesdo:\n",
      "  MAE: 27.36\n",
      "  RMSE: 37.87\n",
      "  R2: -52.828\n",
      "  MAPE: 10.78%\n",
      "✅ Saved plot for nesdo to plots/nesdo.png\n",
      "✅ NFS → Predicted LTP: 316.19\n"
     ]
    },
    {
     "name": "stderr",
     "output_type": "stream",
     "text": [
      "C:\\Users\\Sanskriti Poudel\\New folder\\Lib\\site-packages\\sklearn\\base.py:486: UserWarning: X has feature names, but MinMaxScaler was fitted without feature names\n",
      "  warnings.warn(\n"
     ]
    },
    {
     "name": "stdout",
     "output_type": "stream",
     "text": [
      "📊 Validation metrics for nfs:\n",
      "  MAE: 20.55\n",
      "  RMSE: 22.74\n",
      "  R2: 0.382\n",
      "  MAPE: 6.96%\n",
      "✅ Saved plot for nfs to plots/nfs.png\n",
      "✅ NGPL → Predicted LTP: 344.63\n"
     ]
    },
    {
     "name": "stderr",
     "output_type": "stream",
     "text": [
      "C:\\Users\\Sanskriti Poudel\\New folder\\Lib\\site-packages\\sklearn\\base.py:486: UserWarning: X has feature names, but MinMaxScaler was fitted without feature names\n",
      "  warnings.warn(\n"
     ]
    },
    {
     "name": "stdout",
     "output_type": "stream",
     "text": [
      "📊 Validation metrics for ngpl:\n",
      "  MAE: 6.06\n",
      "  RMSE: 8.37\n",
      "  R2: 0.624\n",
      "  MAPE: 1.92%\n",
      "✅ Saved plot for ngpl to plots/ngpl.png\n",
      "✅ NHDL → Predicted LTP: 379.76\n"
     ]
    },
    {
     "name": "stderr",
     "output_type": "stream",
     "text": [
      "C:\\Users\\Sanskriti Poudel\\New folder\\Lib\\site-packages\\sklearn\\base.py:486: UserWarning: X has feature names, but MinMaxScaler was fitted without feature names\n",
      "  warnings.warn(\n"
     ]
    },
    {
     "name": "stdout",
     "output_type": "stream",
     "text": [
      "📊 Validation metrics for nhdl:\n",
      "  MAE: 9.77\n",
      "  RMSE: 12.29\n",
      "  R2: 0.568\n",
      "  MAPE: 2.61%\n",
      "✅ Saved plot for nhdl to plots/nhdl.png\n",
      "✅ NHPC → Predicted LTP: 220.70\n"
     ]
    },
    {
     "name": "stderr",
     "output_type": "stream",
     "text": [
      "C:\\Users\\Sanskriti Poudel\\New folder\\Lib\\site-packages\\sklearn\\base.py:486: UserWarning: X has feature names, but MinMaxScaler was fitted without feature names\n",
      "  warnings.warn(\n"
     ]
    },
    {
     "name": "stdout",
     "output_type": "stream",
     "text": [
      "📊 Validation metrics for nhpc:\n",
      "  MAE: 4.08\n",
      "  RMSE: 6.02\n",
      "  R2: 0.956\n",
      "  MAPE: 2.04%\n",
      "✅ Saved plot for nhpc to plots/nhpc.png\n",
      "✅ NICA → Predicted LTP: 655.68\n"
     ]
    },
    {
     "name": "stderr",
     "output_type": "stream",
     "text": [
      "C:\\Users\\Sanskriti Poudel\\New folder\\Lib\\site-packages\\sklearn\\base.py:486: UserWarning: X has feature names, but MinMaxScaler was fitted without feature names\n",
      "  warnings.warn(\n"
     ]
    },
    {
     "name": "stdout",
     "output_type": "stream",
     "text": [
      "📊 Validation metrics for nica:\n",
      "  MAE: 42.24\n",
      "  RMSE: 43.42\n",
      "  R2: -0.459\n",
      "  MAPE: 5.61%\n",
      "✅ Saved plot for nica to plots/nica.png\n",
      "✅ NICL → Predicted LTP: 715.24\n"
     ]
    },
    {
     "name": "stderr",
     "output_type": "stream",
     "text": [
      "C:\\Users\\Sanskriti Poudel\\New folder\\Lib\\site-packages\\sklearn\\base.py:486: UserWarning: X has feature names, but MinMaxScaler was fitted without feature names\n",
      "  warnings.warn(\n"
     ]
    },
    {
     "name": "stdout",
     "output_type": "stream",
     "text": [
      "📊 Validation metrics for nicl:\n",
      "  MAE: 82.83\n",
      "  RMSE: 113.05\n",
      "  R2: 0.222\n",
      "  MAPE: 14.69%\n",
      "✅ Saved plot for nicl to plots/nicl.png\n",
      "✅ NICLBSL → Predicted LTP: 568.60\n"
     ]
    },
    {
     "name": "stderr",
     "output_type": "stream",
     "text": [
      "C:\\Users\\Sanskriti Poudel\\New folder\\Lib\\site-packages\\sklearn\\base.py:486: UserWarning: X has feature names, but MinMaxScaler was fitted without feature names\n",
      "  warnings.warn(\n"
     ]
    },
    {
     "name": "stdout",
     "output_type": "stream",
     "text": [
      "📊 Validation metrics for niclbsl:\n",
      "  MAE: 12.16\n",
      "  RMSE: 16.19\n",
      "  R2: 0.945\n",
      "  MAPE: 1.91%\n",
      "✅ Saved plot for niclbsl to plots/niclbsl.png\n",
      "✅ NIFRA → Predicted LTP: 205.75\n"
     ]
    },
    {
     "name": "stderr",
     "output_type": "stream",
     "text": [
      "C:\\Users\\Sanskriti Poudel\\New folder\\Lib\\site-packages\\sklearn\\base.py:486: UserWarning: X has feature names, but MinMaxScaler was fitted without feature names\n",
      "  warnings.warn(\n"
     ]
    },
    {
     "name": "stdout",
     "output_type": "stream",
     "text": [
      "📊 Validation metrics for nifra:\n",
      "  MAE: 3.37\n",
      "  RMSE: 4.23\n",
      "  R2: 0.780\n",
      "  MAPE: 1.56%\n",
      "✅ Saved plot for nifra to plots/nifra.png\n",
      "✅ NIL → Predicted LTP: 740.26\n"
     ]
    },
    {
     "name": "stderr",
     "output_type": "stream",
     "text": [
      "C:\\Users\\Sanskriti Poudel\\New folder\\Lib\\site-packages\\sklearn\\base.py:486: UserWarning: X has feature names, but MinMaxScaler was fitted without feature names\n",
      "  warnings.warn(\n"
     ]
    },
    {
     "name": "stdout",
     "output_type": "stream",
     "text": [
      "📊 Validation metrics for nil:\n",
      "  MAE: 14.14\n",
      "  RMSE: 16.71\n",
      "  R2: 0.936\n",
      "  MAPE: 1.73%\n",
      "✅ Saved plot for nil to plots/nil.png\n",
      "✅ NIMB → Predicted LTP: 183.81\n"
     ]
    },
    {
     "name": "stderr",
     "output_type": "stream",
     "text": [
      "C:\\Users\\Sanskriti Poudel\\New folder\\Lib\\site-packages\\sklearn\\base.py:486: UserWarning: X has feature names, but MinMaxScaler was fitted without feature names\n",
      "  warnings.warn(\n"
     ]
    },
    {
     "name": "stdout",
     "output_type": "stream",
     "text": [
      "📊 Validation metrics for nimb:\n",
      "  MAE: 3.16\n",
      "  RMSE: 4.72\n",
      "  R2: 0.533\n",
      "  MAPE: 1.71%\n",
      "✅ Saved plot for nimb to plots/nimb.png\n",
      "✅ NLG → Predicted LTP: 741.50\n"
     ]
    },
    {
     "name": "stderr",
     "output_type": "stream",
     "text": [
      "C:\\Users\\Sanskriti Poudel\\New folder\\Lib\\site-packages\\sklearn\\base.py:486: UserWarning: X has feature names, but MinMaxScaler was fitted without feature names\n",
      "  warnings.warn(\n"
     ]
    },
    {
     "name": "stdout",
     "output_type": "stream",
     "text": [
      "📊 Validation metrics for nlg:\n",
      "  MAE: 14.42\n",
      "  RMSE: 17.25\n",
      "  R2: 0.934\n",
      "  MAPE: 1.78%\n",
      "✅ Saved plot for nlg to plots/nlg.png\n",
      "✅ NLICL → Predicted LTP: 558.61\n"
     ]
    },
    {
     "name": "stderr",
     "output_type": "stream",
     "text": [
      "C:\\Users\\Sanskriti Poudel\\New folder\\Lib\\site-packages\\sklearn\\base.py:486: UserWarning: X has feature names, but MinMaxScaler was fitted without feature names\n",
      "  warnings.warn(\n"
     ]
    },
    {
     "name": "stdout",
     "output_type": "stream",
     "text": [
      "📊 Validation metrics for nlicl:\n",
      "  MAE: 9.54\n",
      "  RMSE: 12.82\n",
      "  R2: 0.848\n",
      "  MAPE: 1.55%\n",
      "✅ Saved plot for nlicl to plots/nlicl.png\n",
      "✅ NLO → Predicted LTP: 197.59\n",
      "⚠️ Not enough data to validate nlo\n",
      "✅ NMB → Predicted LTP: 219.21\n"
     ]
    },
    {
     "name": "stderr",
     "output_type": "stream",
     "text": [
      "C:\\Users\\Sanskriti Poudel\\New folder\\Lib\\site-packages\\sklearn\\base.py:486: UserWarning: X has feature names, but MinMaxScaler was fitted without feature names\n",
      "  warnings.warn(\n"
     ]
    },
    {
     "name": "stdout",
     "output_type": "stream",
     "text": [
      "📊 Validation metrics for nmb:\n",
      "  MAE: 3.02\n",
      "  RMSE: 4.11\n",
      "  R2: 0.529\n",
      "  MAPE: 1.30%\n",
      "✅ Saved plot for nmb to plots/nmb.png\n",
      "✅ NMBMF → Predicted LTP: 538.05\n"
     ]
    },
    {
     "name": "stderr",
     "output_type": "stream",
     "text": [
      "C:\\Users\\Sanskriti Poudel\\New folder\\Lib\\site-packages\\sklearn\\base.py:486: UserWarning: X has feature names, but MinMaxScaler was fitted without feature names\n",
      "  warnings.warn(\n"
     ]
    },
    {
     "name": "stdout",
     "output_type": "stream",
     "text": [
      "📊 Validation metrics for nmbmf:\n",
      "  MAE: 27.31\n",
      "  RMSE: 32.64\n",
      "  R2: 0.656\n",
      "  MAPE: 4.75%\n",
      "✅ Saved plot for nmbmf to plots/nmbmf.png\n",
      "✅ NMFBS → Predicted LTP: 1246.70\n"
     ]
    },
    {
     "name": "stderr",
     "output_type": "stream",
     "text": [
      "C:\\Users\\Sanskriti Poudel\\New folder\\Lib\\site-packages\\sklearn\\base.py:486: UserWarning: X has feature names, but MinMaxScaler was fitted without feature names\n",
      "  warnings.warn(\n"
     ]
    },
    {
     "name": "stdout",
     "output_type": "stream",
     "text": [
      "📊 Validation metrics for nmfbs:\n",
      "  MAE: 235.37\n",
      "  RMSE: 279.28\n",
      "  R2: -0.860\n",
      "  MAPE: 16.30%\n",
      "✅ Saved plot for nmfbs to plots/nmfbs.png\n",
      "✅ NMIC → Predicted LTP: 365.65\n",
      "⚠️ Not enough data to validate nmic\n",
      "✅ NMLBBL → Predicted LTP: 602.57\n"
     ]
    },
    {
     "name": "stderr",
     "output_type": "stream",
     "text": [
      "C:\\Users\\Sanskriti Poudel\\New folder\\Lib\\site-packages\\sklearn\\base.py:486: UserWarning: X has feature names, but MinMaxScaler was fitted without feature names\n",
      "  warnings.warn(\n"
     ]
    },
    {
     "name": "stdout",
     "output_type": "stream",
     "text": [
      "📊 Validation metrics for nmlbbl:\n",
      "  MAE: 16.08\n",
      "  RMSE: 22.34\n",
      "  R2: 0.895\n",
      "  MAPE: 2.07%\n",
      "✅ Saved plot for nmlbbl to plots/nmlbbl.png\n",
      "✅ NRIC → Predicted LTP: 733.51\n"
     ]
    },
    {
     "name": "stderr",
     "output_type": "stream",
     "text": [
      "C:\\Users\\Sanskriti Poudel\\New folder\\Lib\\site-packages\\sklearn\\base.py:486: UserWarning: X has feature names, but MinMaxScaler was fitted without feature names\n",
      "  warnings.warn(\n"
     ]
    },
    {
     "name": "stdout",
     "output_type": "stream",
     "text": [
      "📊 Validation metrics for nric:\n",
      "  MAE: 15.14\n",
      "  RMSE: 20.97\n",
      "  R2: 0.666\n",
      "  MAPE: 2.05%\n",
      "✅ Saved plot for nric to plots/nric.png\n",
      "✅ NRM → Predicted LTP: 338.98\n"
     ]
    },
    {
     "name": "stderr",
     "output_type": "stream",
     "text": [
      "C:\\Users\\Sanskriti Poudel\\New folder\\Lib\\site-packages\\sklearn\\base.py:486: UserWarning: X has feature names, but MinMaxScaler was fitted without feature names\n",
      "  warnings.warn(\n"
     ]
    },
    {
     "name": "stdout",
     "output_type": "stream",
     "text": [
      "📊 Validation metrics for nrm:\n",
      "  MAE: 74.15\n",
      "  RMSE: 78.11\n",
      "  R2: -0.163\n",
      "  MAPE: 29.16%\n",
      "✅ Saved plot for nrm to plots/nrm.png\n",
      "✅ RADHI → Predicted LTP: 252.43\n"
     ]
    },
    {
     "name": "stderr",
     "output_type": "stream",
     "text": [
      "C:\\Users\\Sanskriti Poudel\\New folder\\Lib\\site-packages\\sklearn\\base.py:486: UserWarning: X has feature names, but MinMaxScaler was fitted without feature names\n",
      "  warnings.warn(\n"
     ]
    },
    {
     "name": "stdout",
     "output_type": "stream",
     "text": [
      "📊 Validation metrics for radhi:\n",
      "  MAE: 5.00\n",
      "  RMSE: 6.50\n",
      "  R2: 0.821\n",
      "  MAPE: 2.06%\n",
      "✅ Saved plot for radhi to plots/radhi.png\n",
      "\n",
      "📈 Final Predictions:\n",
      "     Symbol  Predicted LTP\n",
      "0    aclbsl         643.84\n",
      "1      adbl         245.70\n",
      "2       ahl         431.41\n",
      "3      ahpc         292.73\n",
      "4     akjcl         168.75\n",
      "..      ...            ...\n",
      "139    nmic         365.65\n",
      "140  nmlbbl         602.57\n",
      "141    nric         733.51\n",
      "142     nrm         338.98\n",
      "143   radhi         252.43\n",
      "\n",
      "[144 rows x 2 columns]\n"
     ]
    }
   ],
   "source": [
    "from tensorflow.keras.models import load_model\n",
    "from joblib import load\n",
    "import os\n",
    "import numpy as np\n",
    "import pandas as pd\n",
    "import matplotlib.pyplot as plt\n",
    "from sklearn.metrics import mean_absolute_error, mean_squared_error, r2_score\n",
    "\n",
    "# Define feature columns\n",
    "features = [\n",
    "    '% Change', 'High', 'Low', 'Open', 'Qty.', 'Turnover',\n",
    "    'SECTOR', 'EPS', 'P/E_ratio', 'bookvalue', 'PBV',\n",
    "    'SHARESOUTSTANDING', 'SENTIMENT_SCORE', 'RSI', 'MACD', 'MACD_signal'\n",
    "]\n",
    "\n",
    "model_folder = \"allsavedmodels/gru_fundamental\"\n",
    "sentiment_score = -10\n",
    "predictions = {}\n",
    "\n",
    "for symbol, df in all_stocks.items():\n",
    "    if symbol not in df1.index:\n",
    "        print(f\"⚠️ No fundamental data for {symbol}\")\n",
    "        continue\n",
    "\n",
    "    model_path = os.path.join(model_folder, f\"{symbol}_GRU.keras\")\n",
    "    scaler_path = os.path.join(model_folder, f\"{symbol}_scaler.save\")\n",
    "    y_scaler_path = os.path.join(model_folder, f\"{symbol}_y_scaler.save\")\n",
    "\n",
    "    if not os.path.exists(model_path) or not os.path.exists(scaler_path):\n",
    "        print(f\"❌ Missing model or scaler for {symbol}\")\n",
    "        continue\n",
    "\n",
    "    try:\n",
    "        latest = df.iloc[-1]\n",
    "\n",
    "        if pd.isna(latest.get('RSI')) or pd.isna(latest.get('MACD')) or pd.isna(latest.get('MACD_signal')):\n",
    "            print(f\"⚠️ Skipping {symbol}: insufficient data for RSI/MACD\")\n",
    "            continue\n",
    "\n",
    "        fund = df1.loc[symbol]\n",
    "\n",
    "        input_row = {\n",
    "            '% Change': latest['% Change'],\n",
    "            'High': latest['High'],\n",
    "            'Low': latest['Low'],\n",
    "            'Open': latest['Open'],\n",
    "            'Qty.': latest['Qty.'],\n",
    "            'Turnover': latest['Turnover'],\n",
    "            'SECTOR': sector_encoder.transform([fund['Sector']])[0],\n",
    "            'EPS': fund['EPS'],\n",
    "            'P/E_ratio': fund['P/E_ratio'],\n",
    "            'bookvalue': fund['bookvalue'],\n",
    "            'PBV': fund['PBV'],\n",
    "            'SHARESOUTSTANDING': fund['Sharesoutstanding'],\n",
    "            'SENTIMENT_SCORE': sentiment_score,\n",
    "            'RSI': latest['RSI'],\n",
    "            'MACD': latest['MACD'],\n",
    "            'MACD_signal': latest['MACD_signal']\n",
    "        }\n",
    "\n",
    "        input_df = pd.DataFrame([input_row])\n",
    "        scaler = load(scaler_path)\n",
    "        X = scaler.transform(input_df[features].values)\n",
    "        X = np.expand_dims(X, axis=1)\n",
    "\n",
    "        model = load_model(model_path)\n",
    "        pred = model.predict(X, verbose=0)[0][0]\n",
    "\n",
    "        if os.path.exists(y_scaler_path):\n",
    "            y_scaler = load(y_scaler_path)\n",
    "            pred = y_scaler.inverse_transform([[pred]])[0][0]\n",
    "\n",
    "        pred = max(pred, 0)\n",
    "        predictions[symbol] = round(pred, 2)\n",
    "        print(f\"✅ {symbol.upper()} → Predicted LTP: {pred:.2f}\")\n",
    "\n",
    "        # ✅ validation block for last 100 data points\n",
    "        test_size = 100\n",
    "        if len(df) >= test_size:\n",
    "            test_df = df.tail(test_size).copy()\n",
    "            # fill in fundamental columns for each row\n",
    "            test_df['SECTOR'] = sector_encoder.transform([fund['Sector']])[0]\n",
    "            test_df['EPS'] = fund['EPS']\n",
    "            test_df['P/E_ratio'] = fund['P/E_ratio']\n",
    "            test_df['bookvalue'] = fund['bookvalue']\n",
    "            test_df['PBV'] = fund['PBV']\n",
    "            test_df['SHARESOUTSTANDING'] = fund['Sharesoutstanding']\n",
    "            test_df['SENTIMENT_SCORE'] = sentiment_score\n",
    "\n",
    "            X_test = test_df[features].copy()\n",
    "            X_scaled = scaler.transform(X_test)\n",
    "            X_scaled = np.expand_dims(X_scaled, axis=1)\n",
    "\n",
    "            y_test = test_df['LTP'].values\n",
    "            y_test_scaled = y_scaler.transform(y_test.reshape(-1, 1))\n",
    "\n",
    "            y_pred_scaled = model.predict(X_scaled, verbose=0)\n",
    "            y_pred = y_scaler.inverse_transform(y_pred_scaled)\n",
    "\n",
    "            y_test_flat = y_test\n",
    "            y_pred_flat = y_pred.flatten()\n",
    "\n",
    "            mae = mean_absolute_error(y_test_flat, y_pred_flat)\n",
    "            mse = mean_squared_error(y_test_flat, y_pred_flat)\n",
    "            rmse = mse**0.5\n",
    "            r2 = r2_score(y_test_flat, y_pred_flat)\n",
    "            mape = np.mean(np.abs((y_test_flat - y_pred_flat)/(y_test_flat + 1e-8))) * 100\n",
    "\n",
    "            print(f\"📊 Validation metrics for {symbol}:\")\n",
    "            print(f\"  MAE: {mae:.2f}\")\n",
    "            print(f\"  RMSE: {rmse:.2f}\")\n",
    "            print(f\"  R2: {r2:.3f}\")\n",
    "            print(f\"  MAPE: {mape:.2f}%\")\n",
    "\n",
    "            plt.figure(figsize=(10,5))\n",
    "            plt.plot(y_test_flat, label=\"Actual\", color=\"blue\")\n",
    "            plt.plot(y_pred_flat, label=\"Predicted\", color=\"orange\")\n",
    "            plt.title(f\"{symbol} GRU Validation (last {test_size} days)\")\n",
    "            plt.xlabel(\"Time Steps\")\n",
    "            plt.ylabel(\"LTP\")\n",
    "            plt.legend()\n",
    "            plt.grid(True)\n",
    "            plt.show()\n",
    "            # os.makedirs(\"plots\", exist_ok=True)\n",
    "            # plot_filename = f\"plots/{symbol}.png\"\n",
    "            # plt.savefig(plot_filename, dpi=300, bbox_inches=\"tight\")\n",
    "            # plt.close()\n",
    "\n",
    "            print(f\"✅ Saved plot for {symbol} to {plot_filename}\")\n",
    "\n",
    "        else:\n",
    "            print(f\"⚠️ Not enough data to validate {symbol}\")\n",
    "\n",
    "    except Exception as e:\n",
    "        print(f\"⚠️ Error for {symbol}: {e}\")\n",
    "\n",
    "# Save predictions\n",
    "pred_df = pd.DataFrame(predictions.items(), columns=[\"Symbol\", \"Predicted LTP\"])\n",
    "print(\"\\n📈 Final Predictions:\")\n",
    "print(pred_df)\n",
    "pred_df.to_excel(\"predicted_next_day_LTP.xlsx\", index=False)\n",
    "\n"
   ]
  },
  {
   "cell_type": "code",
   "execution_count": null,
   "id": "ed3cb461-a36c-48b6-b3db-d916ec2d35f8",
   "metadata": {},
   "outputs": [],
   "source": []
  },
  {
   "cell_type": "code",
   "execution_count": null,
   "id": "582fc70c-9c77-4b4b-8297-f94317e520f7",
   "metadata": {},
   "outputs": [],
   "source": []
  }
 ],
 "metadata": {
  "kernelspec": {
   "display_name": "Python [conda env:base]",
   "language": "python",
   "name": "conda-base-py"
  },
  "language_info": {
   "codemirror_mode": {
    "name": "ipython",
    "version": 3
   },
   "file_extension": ".py",
   "mimetype": "text/x-python",
   "name": "python",
   "nbconvert_exporter": "python",
   "pygments_lexer": "ipython3",
   "version": "3.12.7"
  }
 },
 "nbformat": 4,
 "nbformat_minor": 5
}
